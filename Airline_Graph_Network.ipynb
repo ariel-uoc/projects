{
 "cells": [
  {
   "cell_type": "code",
   "execution_count": 1,
   "metadata": {},
   "outputs": [],
   "source": [
    "import pandas as pd \n",
    "import numpy as np\n",
    "\n",
    "data = pd.read_csv('Airlines_graph.csv')"
   ]
  },
  {
   "cell_type": "code",
   "execution_count": 2,
   "metadata": {},
   "outputs": [
    {
     "data": {
      "text/plain": [
       "year                int64\n",
       "month               int64\n",
       "day                 int64\n",
       "dep_time          float64\n",
       "sched_dep_time      int64\n",
       "dep_delay         float64\n",
       "arr_time          float64\n",
       "sched_arr_time      int64\n",
       "arr_delay         float64\n",
       "carrier            object\n",
       "flight              int64\n",
       "tailnum            object\n",
       "origin             object\n",
       "dest               object\n",
       "air_time          float64\n",
       "distance            int64\n",
       "dtype: object"
      ]
     },
     "execution_count": 2,
     "metadata": {},
     "output_type": "execute_result"
    }
   ],
   "source": [
    "import matplotlib.pyplot as plt\n",
    "import networkx as nx\n",
    "data.shape\n",
    "\n",
    "data.dtypes"
   ]
  },
  {
   "cell_type": "code",
   "execution_count": 3,
   "metadata": {},
   "outputs": [
    {
     "data": {
      "text/html": [
       "<div>\n",
       "<style scoped>\n",
       "    .dataframe tbody tr th:only-of-type {\n",
       "        vertical-align: middle;\n",
       "    }\n",
       "\n",
       "    .dataframe tbody tr th {\n",
       "        vertical-align: top;\n",
       "    }\n",
       "\n",
       "    .dataframe thead th {\n",
       "        text-align: right;\n",
       "    }\n",
       "</style>\n",
       "<table border=\"1\" class=\"dataframe\">\n",
       "  <thead>\n",
       "    <tr style=\"text-align: right;\">\n",
       "      <th></th>\n",
       "      <th>year</th>\n",
       "      <th>month</th>\n",
       "      <th>day</th>\n",
       "      <th>dep_time</th>\n",
       "      <th>sched_dep_time</th>\n",
       "      <th>dep_delay</th>\n",
       "      <th>arr_time</th>\n",
       "      <th>sched_arr_time</th>\n",
       "      <th>arr_delay</th>\n",
       "      <th>carrier</th>\n",
       "      <th>flight</th>\n",
       "      <th>tailnum</th>\n",
       "      <th>origin</th>\n",
       "      <th>dest</th>\n",
       "      <th>air_time</th>\n",
       "      <th>distance</th>\n",
       "    </tr>\n",
       "  </thead>\n",
       "  <tbody>\n",
       "    <tr>\n",
       "      <td>0</td>\n",
       "      <td>2013</td>\n",
       "      <td>2</td>\n",
       "      <td>26</td>\n",
       "      <td>1807.0</td>\n",
       "      <td>1630</td>\n",
       "      <td>97.0</td>\n",
       "      <td>1956.0</td>\n",
       "      <td>1837</td>\n",
       "      <td>79.0</td>\n",
       "      <td>EV</td>\n",
       "      <td>4411</td>\n",
       "      <td>N13566</td>\n",
       "      <td>EWR</td>\n",
       "      <td>MEM</td>\n",
       "      <td>144.0</td>\n",
       "      <td>946</td>\n",
       "    </tr>\n",
       "    <tr>\n",
       "      <td>1</td>\n",
       "      <td>2013</td>\n",
       "      <td>8</td>\n",
       "      <td>17</td>\n",
       "      <td>1459.0</td>\n",
       "      <td>1445</td>\n",
       "      <td>14.0</td>\n",
       "      <td>1801.0</td>\n",
       "      <td>1747</td>\n",
       "      <td>14.0</td>\n",
       "      <td>B6</td>\n",
       "      <td>1171</td>\n",
       "      <td>N661JB</td>\n",
       "      <td>LGA</td>\n",
       "      <td>FLL</td>\n",
       "      <td>147.0</td>\n",
       "      <td>1076</td>\n",
       "    </tr>\n",
       "    <tr>\n",
       "      <td>2</td>\n",
       "      <td>2013</td>\n",
       "      <td>2</td>\n",
       "      <td>13</td>\n",
       "      <td>1812.0</td>\n",
       "      <td>1815</td>\n",
       "      <td>-3.0</td>\n",
       "      <td>2055.0</td>\n",
       "      <td>2125</td>\n",
       "      <td>-30.0</td>\n",
       "      <td>AS</td>\n",
       "      <td>7</td>\n",
       "      <td>N403AS</td>\n",
       "      <td>EWR</td>\n",
       "      <td>SEA</td>\n",
       "      <td>315.0</td>\n",
       "      <td>2402</td>\n",
       "    </tr>\n",
       "    <tr>\n",
       "      <td>3</td>\n",
       "      <td>2013</td>\n",
       "      <td>4</td>\n",
       "      <td>11</td>\n",
       "      <td>2122.0</td>\n",
       "      <td>2115</td>\n",
       "      <td>7.0</td>\n",
       "      <td>2339.0</td>\n",
       "      <td>2353</td>\n",
       "      <td>-14.0</td>\n",
       "      <td>B6</td>\n",
       "      <td>97</td>\n",
       "      <td>N656JB</td>\n",
       "      <td>JFK</td>\n",
       "      <td>DEN</td>\n",
       "      <td>221.0</td>\n",
       "      <td>1626</td>\n",
       "    </tr>\n",
       "    <tr>\n",
       "      <td>4</td>\n",
       "      <td>2013</td>\n",
       "      <td>8</td>\n",
       "      <td>5</td>\n",
       "      <td>1832.0</td>\n",
       "      <td>1835</td>\n",
       "      <td>-3.0</td>\n",
       "      <td>2145.0</td>\n",
       "      <td>2155</td>\n",
       "      <td>-10.0</td>\n",
       "      <td>AA</td>\n",
       "      <td>269</td>\n",
       "      <td>N3EYAA</td>\n",
       "      <td>JFK</td>\n",
       "      <td>SEA</td>\n",
       "      <td>358.0</td>\n",
       "      <td>2422</td>\n",
       "    </tr>\n",
       "  </tbody>\n",
       "</table>\n",
       "</div>"
      ],
      "text/plain": [
       "   year  month  day  dep_time  sched_dep_time  dep_delay  arr_time  \\\n",
       "0  2013      2   26    1807.0            1630       97.0    1956.0   \n",
       "1  2013      8   17    1459.0            1445       14.0    1801.0   \n",
       "2  2013      2   13    1812.0            1815       -3.0    2055.0   \n",
       "3  2013      4   11    2122.0            2115        7.0    2339.0   \n",
       "4  2013      8    5    1832.0            1835       -3.0    2145.0   \n",
       "\n",
       "   sched_arr_time  arr_delay carrier  flight tailnum origin dest  air_time  \\\n",
       "0            1837       79.0      EV    4411  N13566    EWR  MEM     144.0   \n",
       "1            1747       14.0      B6    1171  N661JB    LGA  FLL     147.0   \n",
       "2            2125      -30.0      AS       7  N403AS    EWR  SEA     315.0   \n",
       "3            2353      -14.0      B6      97  N656JB    JFK  DEN     221.0   \n",
       "4            2155      -10.0      AA     269  N3EYAA    JFK  SEA     358.0   \n",
       "\n",
       "   distance  \n",
       "0       946  \n",
       "1      1076  \n",
       "2      2402  \n",
       "3      1626  \n",
       "4      2422  "
      ]
     },
     "execution_count": 3,
     "metadata": {},
     "output_type": "execute_result"
    }
   ],
   "source": [
    "data.head(5)"
   ]
  },
  {
   "cell_type": "code",
   "execution_count": 4,
   "metadata": {},
   "outputs": [
    {
     "data": {
      "text/plain": [
       "'2.4'"
      ]
     },
     "execution_count": 4,
     "metadata": {},
     "output_type": "execute_result"
    }
   ],
   "source": [
    "nx.__version__"
   ]
  },
  {
   "cell_type": "code",
   "execution_count": 5,
   "metadata": {},
   "outputs": [],
   "source": [
    "# converting sched_dep_time to 'std' - Scheduled time of departure\n",
    "data['std'] = data.sched_dep_time.astype(str).str.replace('(\\d{2}$)', '') + ':' + data.sched_dep_time.astype(str).str.extract('(\\d{2}$)', expand=False) + ':00'"
   ]
  },
  {
   "cell_type": "code",
   "execution_count": 6,
   "metadata": {},
   "outputs": [
    {
     "data": {
      "text/html": [
       "<div>\n",
       "<style scoped>\n",
       "    .dataframe tbody tr th:only-of-type {\n",
       "        vertical-align: middle;\n",
       "    }\n",
       "\n",
       "    .dataframe tbody tr th {\n",
       "        vertical-align: top;\n",
       "    }\n",
       "\n",
       "    .dataframe thead th {\n",
       "        text-align: right;\n",
       "    }\n",
       "</style>\n",
       "<table border=\"1\" class=\"dataframe\">\n",
       "  <thead>\n",
       "    <tr style=\"text-align: right;\">\n",
       "      <th></th>\n",
       "      <th>year</th>\n",
       "      <th>month</th>\n",
       "      <th>day</th>\n",
       "      <th>dep_time</th>\n",
       "      <th>sched_dep_time</th>\n",
       "      <th>dep_delay</th>\n",
       "      <th>arr_time</th>\n",
       "      <th>sched_arr_time</th>\n",
       "      <th>arr_delay</th>\n",
       "      <th>carrier</th>\n",
       "      <th>flight</th>\n",
       "      <th>tailnum</th>\n",
       "      <th>origin</th>\n",
       "      <th>dest</th>\n",
       "      <th>air_time</th>\n",
       "      <th>distance</th>\n",
       "      <th>std</th>\n",
       "    </tr>\n",
       "  </thead>\n",
       "  <tbody>\n",
       "    <tr>\n",
       "      <td>0</td>\n",
       "      <td>2013</td>\n",
       "      <td>2</td>\n",
       "      <td>26</td>\n",
       "      <td>1807.0</td>\n",
       "      <td>1630</td>\n",
       "      <td>97.0</td>\n",
       "      <td>1956.0</td>\n",
       "      <td>1837</td>\n",
       "      <td>79.0</td>\n",
       "      <td>EV</td>\n",
       "      <td>4411</td>\n",
       "      <td>N13566</td>\n",
       "      <td>EWR</td>\n",
       "      <td>MEM</td>\n",
       "      <td>144.0</td>\n",
       "      <td>946</td>\n",
       "      <td>16:30:00</td>\n",
       "    </tr>\n",
       "    <tr>\n",
       "      <td>1</td>\n",
       "      <td>2013</td>\n",
       "      <td>8</td>\n",
       "      <td>17</td>\n",
       "      <td>1459.0</td>\n",
       "      <td>1445</td>\n",
       "      <td>14.0</td>\n",
       "      <td>1801.0</td>\n",
       "      <td>1747</td>\n",
       "      <td>14.0</td>\n",
       "      <td>B6</td>\n",
       "      <td>1171</td>\n",
       "      <td>N661JB</td>\n",
       "      <td>LGA</td>\n",
       "      <td>FLL</td>\n",
       "      <td>147.0</td>\n",
       "      <td>1076</td>\n",
       "      <td>14:45:00</td>\n",
       "    </tr>\n",
       "    <tr>\n",
       "      <td>2</td>\n",
       "      <td>2013</td>\n",
       "      <td>2</td>\n",
       "      <td>13</td>\n",
       "      <td>1812.0</td>\n",
       "      <td>1815</td>\n",
       "      <td>-3.0</td>\n",
       "      <td>2055.0</td>\n",
       "      <td>2125</td>\n",
       "      <td>-30.0</td>\n",
       "      <td>AS</td>\n",
       "      <td>7</td>\n",
       "      <td>N403AS</td>\n",
       "      <td>EWR</td>\n",
       "      <td>SEA</td>\n",
       "      <td>315.0</td>\n",
       "      <td>2402</td>\n",
       "      <td>18:15:00</td>\n",
       "    </tr>\n",
       "    <tr>\n",
       "      <td>3</td>\n",
       "      <td>2013</td>\n",
       "      <td>4</td>\n",
       "      <td>11</td>\n",
       "      <td>2122.0</td>\n",
       "      <td>2115</td>\n",
       "      <td>7.0</td>\n",
       "      <td>2339.0</td>\n",
       "      <td>2353</td>\n",
       "      <td>-14.0</td>\n",
       "      <td>B6</td>\n",
       "      <td>97</td>\n",
       "      <td>N656JB</td>\n",
       "      <td>JFK</td>\n",
       "      <td>DEN</td>\n",
       "      <td>221.0</td>\n",
       "      <td>1626</td>\n",
       "      <td>21:15:00</td>\n",
       "    </tr>\n",
       "    <tr>\n",
       "      <td>4</td>\n",
       "      <td>2013</td>\n",
       "      <td>8</td>\n",
       "      <td>5</td>\n",
       "      <td>1832.0</td>\n",
       "      <td>1835</td>\n",
       "      <td>-3.0</td>\n",
       "      <td>2145.0</td>\n",
       "      <td>2155</td>\n",
       "      <td>-10.0</td>\n",
       "      <td>AA</td>\n",
       "      <td>269</td>\n",
       "      <td>N3EYAA</td>\n",
       "      <td>JFK</td>\n",
       "      <td>SEA</td>\n",
       "      <td>358.0</td>\n",
       "      <td>2422</td>\n",
       "      <td>18:35:00</td>\n",
       "    </tr>\n",
       "  </tbody>\n",
       "</table>\n",
       "</div>"
      ],
      "text/plain": [
       "   year  month  day  dep_time  sched_dep_time  dep_delay  arr_time  \\\n",
       "0  2013      2   26    1807.0            1630       97.0    1956.0   \n",
       "1  2013      8   17    1459.0            1445       14.0    1801.0   \n",
       "2  2013      2   13    1812.0            1815       -3.0    2055.0   \n",
       "3  2013      4   11    2122.0            2115        7.0    2339.0   \n",
       "4  2013      8    5    1832.0            1835       -3.0    2145.0   \n",
       "\n",
       "   sched_arr_time  arr_delay carrier  flight tailnum origin dest  air_time  \\\n",
       "0            1837       79.0      EV    4411  N13566    EWR  MEM     144.0   \n",
       "1            1747       14.0      B6    1171  N661JB    LGA  FLL     147.0   \n",
       "2            2125      -30.0      AS       7  N403AS    EWR  SEA     315.0   \n",
       "3            2353      -14.0      B6      97  N656JB    JFK  DEN     221.0   \n",
       "4            2155      -10.0      AA     269  N3EYAA    JFK  SEA     358.0   \n",
       "\n",
       "   distance       std  \n",
       "0       946  16:30:00  \n",
       "1      1076  14:45:00  \n",
       "2      2402  18:15:00  \n",
       "3      1626  21:15:00  \n",
       "4      2422  18:35:00  "
      ]
     },
     "execution_count": 6,
     "metadata": {},
     "output_type": "execute_result"
    }
   ],
   "source": [
    "data.head()"
   ]
  },
  {
   "cell_type": "code",
   "execution_count": 7,
   "metadata": {},
   "outputs": [],
   "source": [
    "# converting sched_arr_time to 'sta' - Scheduled time of arrival\n",
    "data['sta'] = data.sched_arr_time.astype(str).str.replace('(\\d{2}$)', '') + ':' + data.sched_arr_time.astype(str).str.extract('(\\d{2}$)', expand=False) + ':00'\n",
    "\n",
    "# converting dep_time to 'atd' - Actual time of departure\n",
    "data['atd'] = data.dep_time.fillna(0).astype(np.int64).astype(str).str.replace('(\\d{2}$)', '') + ':' + data.dep_time.fillna(0).astype(np.int64).astype(str).str.extract('(\\d{2}$)', expand=False) + ':00'"
   ]
  },
  {
   "cell_type": "code",
   "execution_count": 8,
   "metadata": {},
   "outputs": [],
   "source": [
    "# converting arr_time to 'ata' - Actual time of arrival\n",
    "data['ata'] = data.arr_time.fillna(0).astype(np.int64).astype(str).str.replace('(\\d{2}$)', '') + ':' + data.arr_time.fillna(0).astype(np.int64).astype(str).str.extract('(\\d{2}$)', expand=False) + ':00'"
   ]
  },
  {
   "cell_type": "code",
   "execution_count": 9,
   "metadata": {},
   "outputs": [],
   "source": [
    "data['date'] = pd.to_datetime(data[['year', 'month', 'day']])"
   ]
  },
  {
   "cell_type": "code",
   "execution_count": 10,
   "metadata": {},
   "outputs": [],
   "source": [
    "# finally we drop the columns we don't need\n",
    "data = data.drop(columns = ['year', 'month', 'day'])"
   ]
  },
  {
   "cell_type": "code",
   "execution_count": 11,
   "metadata": {},
   "outputs": [
    {
     "data": {
      "text/html": [
       "<div>\n",
       "<style scoped>\n",
       "    .dataframe tbody tr th:only-of-type {\n",
       "        vertical-align: middle;\n",
       "    }\n",
       "\n",
       "    .dataframe tbody tr th {\n",
       "        vertical-align: top;\n",
       "    }\n",
       "\n",
       "    .dataframe thead th {\n",
       "        text-align: right;\n",
       "    }\n",
       "</style>\n",
       "<table border=\"1\" class=\"dataframe\">\n",
       "  <thead>\n",
       "    <tr style=\"text-align: right;\">\n",
       "      <th></th>\n",
       "      <th>dep_time</th>\n",
       "      <th>sched_dep_time</th>\n",
       "      <th>dep_delay</th>\n",
       "      <th>arr_time</th>\n",
       "      <th>sched_arr_time</th>\n",
       "      <th>arr_delay</th>\n",
       "      <th>carrier</th>\n",
       "      <th>flight</th>\n",
       "      <th>tailnum</th>\n",
       "      <th>origin</th>\n",
       "      <th>dest</th>\n",
       "      <th>air_time</th>\n",
       "      <th>distance</th>\n",
       "      <th>std</th>\n",
       "      <th>sta</th>\n",
       "      <th>atd</th>\n",
       "      <th>ata</th>\n",
       "      <th>date</th>\n",
       "    </tr>\n",
       "  </thead>\n",
       "  <tbody>\n",
       "    <tr>\n",
       "      <td>0</td>\n",
       "      <td>1807.0</td>\n",
       "      <td>1630</td>\n",
       "      <td>97.0</td>\n",
       "      <td>1956.0</td>\n",
       "      <td>1837</td>\n",
       "      <td>79.0</td>\n",
       "      <td>EV</td>\n",
       "      <td>4411</td>\n",
       "      <td>N13566</td>\n",
       "      <td>EWR</td>\n",
       "      <td>MEM</td>\n",
       "      <td>144.0</td>\n",
       "      <td>946</td>\n",
       "      <td>16:30:00</td>\n",
       "      <td>18:37:00</td>\n",
       "      <td>18:07:00</td>\n",
       "      <td>19:56:00</td>\n",
       "      <td>2013-02-26</td>\n",
       "    </tr>\n",
       "    <tr>\n",
       "      <td>1</td>\n",
       "      <td>1459.0</td>\n",
       "      <td>1445</td>\n",
       "      <td>14.0</td>\n",
       "      <td>1801.0</td>\n",
       "      <td>1747</td>\n",
       "      <td>14.0</td>\n",
       "      <td>B6</td>\n",
       "      <td>1171</td>\n",
       "      <td>N661JB</td>\n",
       "      <td>LGA</td>\n",
       "      <td>FLL</td>\n",
       "      <td>147.0</td>\n",
       "      <td>1076</td>\n",
       "      <td>14:45:00</td>\n",
       "      <td>17:47:00</td>\n",
       "      <td>14:59:00</td>\n",
       "      <td>18:01:00</td>\n",
       "      <td>2013-08-17</td>\n",
       "    </tr>\n",
       "    <tr>\n",
       "      <td>2</td>\n",
       "      <td>1812.0</td>\n",
       "      <td>1815</td>\n",
       "      <td>-3.0</td>\n",
       "      <td>2055.0</td>\n",
       "      <td>2125</td>\n",
       "      <td>-30.0</td>\n",
       "      <td>AS</td>\n",
       "      <td>7</td>\n",
       "      <td>N403AS</td>\n",
       "      <td>EWR</td>\n",
       "      <td>SEA</td>\n",
       "      <td>315.0</td>\n",
       "      <td>2402</td>\n",
       "      <td>18:15:00</td>\n",
       "      <td>21:25:00</td>\n",
       "      <td>18:12:00</td>\n",
       "      <td>20:55:00</td>\n",
       "      <td>2013-02-13</td>\n",
       "    </tr>\n",
       "    <tr>\n",
       "      <td>3</td>\n",
       "      <td>2122.0</td>\n",
       "      <td>2115</td>\n",
       "      <td>7.0</td>\n",
       "      <td>2339.0</td>\n",
       "      <td>2353</td>\n",
       "      <td>-14.0</td>\n",
       "      <td>B6</td>\n",
       "      <td>97</td>\n",
       "      <td>N656JB</td>\n",
       "      <td>JFK</td>\n",
       "      <td>DEN</td>\n",
       "      <td>221.0</td>\n",
       "      <td>1626</td>\n",
       "      <td>21:15:00</td>\n",
       "      <td>23:53:00</td>\n",
       "      <td>21:22:00</td>\n",
       "      <td>23:39:00</td>\n",
       "      <td>2013-04-11</td>\n",
       "    </tr>\n",
       "    <tr>\n",
       "      <td>4</td>\n",
       "      <td>1832.0</td>\n",
       "      <td>1835</td>\n",
       "      <td>-3.0</td>\n",
       "      <td>2145.0</td>\n",
       "      <td>2155</td>\n",
       "      <td>-10.0</td>\n",
       "      <td>AA</td>\n",
       "      <td>269</td>\n",
       "      <td>N3EYAA</td>\n",
       "      <td>JFK</td>\n",
       "      <td>SEA</td>\n",
       "      <td>358.0</td>\n",
       "      <td>2422</td>\n",
       "      <td>18:35:00</td>\n",
       "      <td>21:55:00</td>\n",
       "      <td>18:32:00</td>\n",
       "      <td>21:45:00</td>\n",
       "      <td>2013-08-05</td>\n",
       "    </tr>\n",
       "  </tbody>\n",
       "</table>\n",
       "</div>"
      ],
      "text/plain": [
       "   dep_time  sched_dep_time  dep_delay  arr_time  sched_arr_time  arr_delay  \\\n",
       "0    1807.0            1630       97.0    1956.0            1837       79.0   \n",
       "1    1459.0            1445       14.0    1801.0            1747       14.0   \n",
       "2    1812.0            1815       -3.0    2055.0            2125      -30.0   \n",
       "3    2122.0            2115        7.0    2339.0            2353      -14.0   \n",
       "4    1832.0            1835       -3.0    2145.0            2155      -10.0   \n",
       "\n",
       "  carrier  flight tailnum origin dest  air_time  distance       std       sta  \\\n",
       "0      EV    4411  N13566    EWR  MEM     144.0       946  16:30:00  18:37:00   \n",
       "1      B6    1171  N661JB    LGA  FLL     147.0      1076  14:45:00  17:47:00   \n",
       "2      AS       7  N403AS    EWR  SEA     315.0      2402  18:15:00  21:25:00   \n",
       "3      B6      97  N656JB    JFK  DEN     221.0      1626  21:15:00  23:53:00   \n",
       "4      AA     269  N3EYAA    JFK  SEA     358.0      2422  18:35:00  21:55:00   \n",
       "\n",
       "        atd       ata       date  \n",
       "0  18:07:00  19:56:00 2013-02-26  \n",
       "1  14:59:00  18:01:00 2013-08-17  \n",
       "2  18:12:00  20:55:00 2013-02-13  \n",
       "3  21:22:00  23:39:00 2013-04-11  \n",
       "4  18:32:00  21:45:00 2013-08-05  "
      ]
     },
     "execution_count": 11,
     "metadata": {},
     "output_type": "execute_result"
    }
   ],
   "source": [
    "data.head()"
   ]
  },
  {
   "cell_type": "code",
   "execution_count": 12,
   "metadata": {},
   "outputs": [],
   "source": [
    "FG = nx.from_pandas_edgelist(data, source='origin', target='dest', edge_attr=True,)"
   ]
  },
  {
   "cell_type": "code",
   "execution_count": 13,
   "metadata": {},
   "outputs": [
    {
     "data": {
      "text/plain": [
       "NodeView(('EWR', 'MEM', 'LGA', 'FLL', 'SEA', 'JFK', 'DEN', 'ORD', 'MIA', 'PBI', 'MCO', 'CMH', 'MSP', 'IAD', 'CLT', 'TPA', 'DCA', 'SJU', 'ATL', 'BHM', 'SRQ', 'MSY', 'DTW', 'LAX', 'JAX', 'RDU', 'MDW', 'DFW', 'IAH', 'SFO', 'STL', 'CVG', 'IND', 'RSW', 'BOS', 'CLE'))"
      ]
     },
     "execution_count": 13,
     "metadata": {},
     "output_type": "execute_result"
    }
   ],
   "source": [
    "FG.nodes()"
   ]
  },
  {
   "cell_type": "code",
   "execution_count": 14,
   "metadata": {},
   "outputs": [
    {
     "data": {
      "text/plain": [
       "EdgeView([('EWR', 'MEM'), ('EWR', 'SEA'), ('EWR', 'MIA'), ('EWR', 'ORD'), ('EWR', 'MSP'), ('EWR', 'TPA'), ('EWR', 'MSY'), ('EWR', 'DFW'), ('EWR', 'IAH'), ('EWR', 'SFO'), ('EWR', 'CVG'), ('EWR', 'IND'), ('EWR', 'RDU'), ('EWR', 'IAD'), ('EWR', 'RSW'), ('EWR', 'BOS'), ('EWR', 'PBI'), ('EWR', 'LAX'), ('EWR', 'MCO'), ('EWR', 'SJU'), ('LGA', 'FLL'), ('LGA', 'ORD'), ('LGA', 'PBI'), ('LGA', 'CMH'), ('LGA', 'IAD'), ('LGA', 'CLT'), ('LGA', 'MIA'), ('LGA', 'DCA'), ('LGA', 'BHM'), ('LGA', 'RDU'), ('LGA', 'ATL'), ('LGA', 'TPA'), ('LGA', 'MDW'), ('LGA', 'DEN'), ('LGA', 'MSP'), ('LGA', 'DTW'), ('LGA', 'STL'), ('LGA', 'MCO'), ('LGA', 'CVG'), ('LGA', 'IAH'), ('FLL', 'JFK'), ('SEA', 'JFK'), ('JFK', 'DEN'), ('JFK', 'MCO'), ('JFK', 'TPA'), ('JFK', 'SJU'), ('JFK', 'ATL'), ('JFK', 'SRQ'), ('JFK', 'DCA'), ('JFK', 'DTW'), ('JFK', 'LAX'), ('JFK', 'JAX'), ('JFK', 'CLT'), ('JFK', 'PBI'), ('JFK', 'CLE'), ('JFK', 'IAD'), ('JFK', 'BOS')])"
      ]
     },
     "execution_count": 14,
     "metadata": {},
     "output_type": "execute_result"
    }
   ],
   "source": [
    "FG.edges()"
   ]
  },
  {
   "cell_type": "code",
   "execution_count": 15,
   "metadata": {},
   "outputs": [
    {
     "data": {
      "image/png": "[encoded data removed]",
      "text/plain": [
       "<Figure size 432x288 with 1 Axes>"
      ]
     },
     "metadata": {},
     "output_type": "display_data"
    }
   ],
   "source": [
    "# Visualize the network of flights \n",
    "nx.draw_networkx(FG, node_size = 300, font_size=10)"
   ]
  },
  {
   "cell_type": "code",
   "execution_count": 16,
   "metadata": {},
   "outputs": [
    {
     "data": {
      "text/plain": [
       "0.09047619047619047"
      ]
     },
     "execution_count": 16,
     "metadata": {},
     "output_type": "execute_result"
    }
   ],
   "source": [
    "nx.algorithms.degree_centrality(FG) # Notice the 3 airports from which all of our 100 rows of data originates\n",
    "\n",
    "# Calculate average edge density of the Graph\n",
    "nx.density(FG)"
   ]
  },
  {
   "cell_type": "code",
   "execution_count": 17,
   "metadata": {},
   "outputs": [
    {
     "data": {
      "text/plain": [
       "2.36984126984127"
      ]
     },
     "execution_count": 17,
     "metadata": {},
     "output_type": "execute_result"
    }
   ],
   "source": [
    "nx.average_shortest_path_length(FG) # Average shortest path length for ALL paths in the Graph"
   ]
  },
  {
   "cell_type": "code",
   "execution_count": 18,
   "metadata": {},
   "outputs": [
    {
     "data": {
      "text/plain": [
       "{20: 1.95, 1: 19.307692307692307, 2: 19.0625, 17: 2.0588235294117645, 3: 19.0}"
      ]
     },
     "execution_count": 18,
     "metadata": {},
     "output_type": "execute_result"
    }
   ],
   "source": [
    "nx.average_degree_connectivity(FG) # For a node of degree k - What is the average of its neighbours' degree?"
   ]
  },
  {
   "cell_type": "code",
   "execution_count": 19,
   "metadata": {},
   "outputs": [
    {
     "name": "stdout",
     "output_type": "stream",
     "text": [
      "['JAX', 'JFK', 'DEN', 'LGA', 'ORD', 'EWR', 'DFW']\n",
      "['JAX', 'JFK', 'DEN', 'LGA', 'PBI', 'EWR', 'DFW']\n",
      "['JAX', 'JFK', 'DEN', 'LGA', 'IAD', 'EWR', 'DFW']\n",
      "['JAX', 'JFK', 'DEN', 'LGA', 'MIA', 'EWR', 'DFW']\n",
      "['JAX', 'JFK', 'DEN', 'LGA', 'RDU', 'EWR', 'DFW']\n",
      "['JAX', 'JFK', 'DEN', 'LGA', 'TPA', 'EWR', 'DFW']\n",
      "['JAX', 'JFK', 'DEN', 'LGA', 'MSP', 'EWR', 'DFW']\n",
      "['JAX', 'JFK', 'DEN', 'LGA', 'MCO', 'EWR', 'DFW']\n",
      "['JAX', 'JFK', 'DEN', 'LGA', 'CVG', 'EWR', 'DFW']\n",
      "['JAX', 'JFK', 'DEN', 'LGA', 'IAH', 'EWR', 'DFW']\n",
      "['JAX', 'JFK', 'SEA', 'EWR', 'DFW']\n",
      "['JAX', 'JFK', 'MCO', 'LGA', 'ORD', 'EWR', 'DFW']\n",
      "['JAX', 'JFK', 'MCO', 'LGA', 'PBI', 'EWR', 'DFW']\n",
      "['JAX', 'JFK', 'MCO', 'LGA', 'IAD', 'EWR', 'DFW']\n",
      "['JAX', 'JFK', 'MCO', 'LGA', 'MIA', 'EWR', 'DFW']\n",
      "['JAX', 'JFK', 'MCO', 'LGA', 'RDU', 'EWR', 'DFW']\n",
      "['JAX', 'JFK', 'MCO', 'LGA', 'TPA', 'EWR', 'DFW']\n",
      "['JAX', 'JFK', 'MCO', 'LGA', 'MSP', 'EWR', 'DFW']\n",
      "['JAX', 'JFK', 'MCO', 'LGA', 'CVG', 'EWR', 'DFW']\n",
      "['JAX', 'JFK', 'MCO', 'LGA', 'IAH', 'EWR', 'DFW']\n",
      "['JAX', 'JFK', 'MCO', 'EWR', 'DFW']\n",
      "['JAX', 'JFK', 'TPA', 'EWR', 'DFW']\n",
      "['JAX', 'JFK', 'TPA', 'LGA', 'ORD', 'EWR', 'DFW']\n",
      "['JAX', 'JFK', 'TPA', 'LGA', 'PBI', 'EWR', 'DFW']\n",
      "['JAX', 'JFK', 'TPA', 'LGA', 'IAD', 'EWR', 'DFW']\n",
      "['JAX', 'JFK', 'TPA', 'LGA', 'MIA', 'EWR', 'DFW']\n",
      "['JAX', 'JFK', 'TPA', 'LGA', 'RDU', 'EWR', 'DFW']\n",
      "['JAX', 'JFK', 'TPA', 'LGA', 'MSP', 'EWR', 'DFW']\n",
      "['JAX', 'JFK', 'TPA', 'LGA', 'MCO', 'EWR', 'DFW']\n",
      "['JAX', 'JFK', 'TPA', 'LGA', 'CVG', 'EWR', 'DFW']\n",
      "['JAX', 'JFK', 'TPA', 'LGA', 'IAH', 'EWR', 'DFW']\n",
      "['JAX', 'JFK', 'SJU', 'EWR', 'DFW']\n",
      "['JAX', 'JFK', 'ATL', 'LGA', 'ORD', 'EWR', 'DFW']\n",
      "['JAX', 'JFK', 'ATL', 'LGA', 'PBI', 'EWR', 'DFW']\n",
      "['JAX', 'JFK', 'ATL', 'LGA', 'IAD', 'EWR', 'DFW']\n",
      "['JAX', 'JFK', 'ATL', 'LGA', 'MIA', 'EWR', 'DFW']\n",
      "['JAX', 'JFK', 'ATL', 'LGA', 'RDU', 'EWR', 'DFW']\n",
      "['JAX', 'JFK', 'ATL', 'LGA', 'TPA', 'EWR', 'DFW']\n",
      "['JAX', 'JFK', 'ATL', 'LGA', 'MSP', 'EWR', 'DFW']\n",
      "['JAX', 'JFK', 'ATL', 'LGA', 'MCO', 'EWR', 'DFW']\n",
      "['JAX', 'JFK', 'ATL', 'LGA', 'CVG', 'EWR', 'DFW']\n",
      "['JAX', 'JFK', 'ATL', 'LGA', 'IAH', 'EWR', 'DFW']\n",
      "['JAX', 'JFK', 'DCA', 'LGA', 'ORD', 'EWR', 'DFW']\n",
      "['JAX', 'JFK', 'DCA', 'LGA', 'PBI', 'EWR', 'DFW']\n",
      "['JAX', 'JFK', 'DCA', 'LGA', 'IAD', 'EWR', 'DFW']\n",
      "['JAX', 'JFK', 'DCA', 'LGA', 'MIA', 'EWR', 'DFW']\n",
      "['JAX', 'JFK', 'DCA', 'LGA', 'RDU', 'EWR', 'DFW']\n",
      "['JAX', 'JFK', 'DCA', 'LGA', 'TPA', 'EWR', 'DFW']\n",
      "['JAX', 'JFK', 'DCA', 'LGA', 'MSP', 'EWR', 'DFW']\n",
      "['JAX', 'JFK', 'DCA', 'LGA', 'MCO', 'EWR', 'DFW']\n",
      "['JAX', 'JFK', 'DCA', 'LGA', 'CVG', 'EWR', 'DFW']\n",
      "['JAX', 'JFK', 'DCA', 'LGA', 'IAH', 'EWR', 'DFW']\n",
      "['JAX', 'JFK', 'DTW', 'LGA', 'ORD', 'EWR', 'DFW']\n",
      "['JAX', 'JFK', 'DTW', 'LGA', 'PBI', 'EWR', 'DFW']\n",
      "['JAX', 'JFK', 'DTW', 'LGA', 'IAD', 'EWR', 'DFW']\n",
      "['JAX', 'JFK', 'DTW', 'LGA', 'MIA', 'EWR', 'DFW']\n",
      "['JAX', 'JFK', 'DTW', 'LGA', 'RDU', 'EWR', 'DFW']\n",
      "['JAX', 'JFK', 'DTW', 'LGA', 'TPA', 'EWR', 'DFW']\n",
      "['JAX', 'JFK', 'DTW', 'LGA', 'MSP', 'EWR', 'DFW']\n",
      "['JAX', 'JFK', 'DTW', 'LGA', 'MCO', 'EWR', 'DFW']\n",
      "['JAX', 'JFK', 'DTW', 'LGA', 'CVG', 'EWR', 'DFW']\n",
      "['JAX', 'JFK', 'DTW', 'LGA', 'IAH', 'EWR', 'DFW']\n",
      "['JAX', 'JFK', 'LAX', 'EWR', 'DFW']\n",
      "['JAX', 'JFK', 'FLL', 'LGA', 'ORD', 'EWR', 'DFW']\n",
      "['JAX', 'JFK', 'FLL', 'LGA', 'PBI', 'EWR', 'DFW']\n",
      "['JAX', 'JFK', 'FLL', 'LGA', 'IAD', 'EWR', 'DFW']\n",
      "['JAX', 'JFK', 'FLL', 'LGA', 'MIA', 'EWR', 'DFW']\n",
      "['JAX', 'JFK', 'FLL', 'LGA', 'RDU', 'EWR', 'DFW']\n",
      "['JAX', 'JFK', 'FLL', 'LGA', 'TPA', 'EWR', 'DFW']\n",
      "['JAX', 'JFK', 'FLL', 'LGA', 'MSP', 'EWR', 'DFW']\n",
      "['JAX', 'JFK', 'FLL', 'LGA', 'MCO', 'EWR', 'DFW']\n",
      "['JAX', 'JFK', 'FLL', 'LGA', 'CVG', 'EWR', 'DFW']\n",
      "['JAX', 'JFK', 'FLL', 'LGA', 'IAH', 'EWR', 'DFW']\n",
      "['JAX', 'JFK', 'CLT', 'LGA', 'ORD', 'EWR', 'DFW']\n",
      "['JAX', 'JFK', 'CLT', 'LGA', 'PBI', 'EWR', 'DFW']\n",
      "['JAX', 'JFK', 'CLT', 'LGA', 'IAD', 'EWR', 'DFW']\n",
      "['JAX', 'JFK', 'CLT', 'LGA', 'MIA', 'EWR', 'DFW']\n",
      "['JAX', 'JFK', 'CLT', 'LGA', 'RDU', 'EWR', 'DFW']\n",
      "['JAX', 'JFK', 'CLT', 'LGA', 'TPA', 'EWR', 'DFW']\n",
      "['JAX', 'JFK', 'CLT', 'LGA', 'MSP', 'EWR', 'DFW']\n",
      "['JAX', 'JFK', 'CLT', 'LGA', 'MCO', 'EWR', 'DFW']\n",
      "['JAX', 'JFK', 'CLT', 'LGA', 'CVG', 'EWR', 'DFW']\n",
      "['JAX', 'JFK', 'CLT', 'LGA', 'IAH', 'EWR', 'DFW']\n",
      "['JAX', 'JFK', 'PBI', 'LGA', 'ORD', 'EWR', 'DFW']\n",
      "['JAX', 'JFK', 'PBI', 'LGA', 'IAD', 'EWR', 'DFW']\n",
      "['JAX', 'JFK', 'PBI', 'LGA', 'MIA', 'EWR', 'DFW']\n",
      "['JAX', 'JFK', 'PBI', 'LGA', 'RDU', 'EWR', 'DFW']\n",
      "['JAX', 'JFK', 'PBI', 'LGA', 'TPA', 'EWR', 'DFW']\n",
      "['JAX', 'JFK', 'PBI', 'LGA', 'MSP', 'EWR', 'DFW']\n",
      "['JAX', 'JFK', 'PBI', 'LGA', 'MCO', 'EWR', 'DFW']\n",
      "['JAX', 'JFK', 'PBI', 'LGA', 'CVG', 'EWR', 'DFW']\n",
      "['JAX', 'JFK', 'PBI', 'LGA', 'IAH', 'EWR', 'DFW']\n",
      "['JAX', 'JFK', 'PBI', 'EWR', 'DFW']\n",
      "['JAX', 'JFK', 'IAD', 'LGA', 'ORD', 'EWR', 'DFW']\n",
      "['JAX', 'JFK', 'IAD', 'LGA', 'PBI', 'EWR', 'DFW']\n",
      "['JAX', 'JFK', 'IAD', 'LGA', 'MIA', 'EWR', 'DFW']\n",
      "['JAX', 'JFK', 'IAD', 'LGA', 'RDU', 'EWR', 'DFW']\n",
      "['JAX', 'JFK', 'IAD', 'LGA', 'TPA', 'EWR', 'DFW']\n",
      "['JAX', 'JFK', 'IAD', 'LGA', 'MSP', 'EWR', 'DFW']\n",
      "['JAX', 'JFK', 'IAD', 'LGA', 'MCO', 'EWR', 'DFW']\n",
      "['JAX', 'JFK', 'IAD', 'LGA', 'CVG', 'EWR', 'DFW']\n",
      "['JAX', 'JFK', 'IAD', 'LGA', 'IAH', 'EWR', 'DFW']\n",
      "['JAX', 'JFK', 'IAD', 'EWR', 'DFW']\n",
      "['JAX', 'JFK', 'BOS', 'EWR', 'DFW']\n"
     ]
    }
   ],
   "source": [
    "# Let us find all the paths available\n",
    "for path in nx.all_simple_paths(FG, source='JAX', target='DFW'):\n",
    "    print(path)"
   ]
  },
  {
   "cell_type": "code",
   "execution_count": 20,
   "metadata": {},
   "outputs": [
    {
     "data": {
      "text/plain": [
       "['JAX', 'JFK', 'SEA', 'EWR', 'DFW']"
      ]
     },
     "execution_count": 20,
     "metadata": {},
     "output_type": "execute_result"
    }
   ],
   "source": [
    "# Let us find the dijkstra path from JAX to DFW.\n",
    "# Here's an in-depth article on how dijkstra works - https://courses.csail.mit.edu/6.006/fall11/lectures/lecture16.pdf\n",
    "dijpath = nx.dijkstra_path(FG, source='JAX', target='DFW')\n",
    "dijpath"
   ]
  },
  {
   "cell_type": "code",
   "execution_count": 21,
   "metadata": {},
   "outputs": [
    {
     "data": {
      "text/plain": [
       "['JAX', 'JFK', 'BOS', 'EWR', 'DFW']"
      ]
     },
     "execution_count": 21,
     "metadata": {},
     "output_type": "execute_result"
    }
   ],
   "source": [
    "# Let us try to find the dijkstra path weighted by airtime (approximate case)\n",
    "shortpath = nx.dijkstra_path(FG, source='JAX', target='DFW', weight='air_time')\n",
    "shortpath"
   ]
  },
  {
   "cell_type": "markdown",
   "metadata": {},
   "source": [
    "\n",
    "\n",
    "2. How many maximal cliques we can spot in this airline network? (20 Points)\n",
    "\n",
    "3. List the most busiest/popular airport. (20 Points) \n",
    "\n",
    "4. As a thought leader, identify 6 new routes to recommend. Hint: Think if the pairs are symmetric or not and make your assumption/observation accordingly i.e. whether ORD-LAX and LAX-ORD two separate routes? (50 Points)\n",
    "\n"
   ]
  },
  {
   "cell_type": "markdown",
   "metadata": {},
   "source": [
    "## Number of maximal cliques in this airline network "
   ]
  },
  {
   "cell_type": "code",
   "execution_count": 22,
   "metadata": {},
   "outputs": [
    {
     "name": "stdout",
     "output_type": "stream",
     "text": [
      "57\n"
     ]
    }
   ],
   "source": [
    "# Calculate the maximal cliques\n",
    "cliques = nx.find_cliques(FG)\n",
    "\n",
    "# Count and print the number of maximal cliques in FG\n",
    "print(len(list(cliques)))\n",
    "\n",
    "# There are 57 maximal cliques we can spot in this airline network."
   ]
  },
  {
   "cell_type": "markdown",
   "metadata": {},
   "source": [
    "## The most busiest/popular airport"
   ]
  },
  {
   "cell_type": "code",
   "execution_count": 23,
   "metadata": {},
   "outputs": [
    {
     "name": "stdout",
     "output_type": "stream",
     "text": [
      "['EWR', 'LGA']\n"
     ]
    }
   ],
   "source": [
    "# Compute the degree centralities of FG \n",
    "deg_cent = nx.degree_centrality(FG)\n",
    "\n",
    "# Compute the maximum degree centrality\n",
    "max_dc = max(deg_cent.values())\n",
    "\n",
    "# Find the busiest airport\n",
    "busiest_airport = [n for n, dc in deg_cent.items() if dc == max_dc]\n",
    "print(busiest_airport)\n",
    "\n",
    "# Newark and La Guardia are the busiest airports."
   ]
  },
  {
   "cell_type": "markdown",
   "metadata": {},
   "source": [
    "## Identify 6 New Routes "
   ]
  },
  {
   "cell_type": "code",
   "execution_count": 24,
   "metadata": {},
   "outputs": [
    {
     "name": "stdout",
     "output_type": "stream",
     "text": [
      "[('LGA', 'JFK'), ('EWR', 'JFK'), ('JFK', 'LGA'), ('LGA', 'EWR'), ('EWR', 'LGA'), ('JFK', 'EWR')]\n"
     ]
    }
   ],
   "source": [
    "# Import necessary modules\n",
    "from itertools import combinations\n",
    "from collections import defaultdict\n",
    "\n",
    "# Initialize the defaultdict: recommended\n",
    "recommended = defaultdict(int)\n",
    "\n",
    "# Iterate over all the nodes in FG\n",
    "for n, d in FG.nodes(data=True):\n",
    "\n",
    "    # Iterate over all possible triangle relationship combinations\n",
    "    for n1, n2 in combinations(FG.neighbors(n), 2):\n",
    "    \n",
    "        # Check whether n1 and n2 do not have an edge\n",
    "        if not FG.has_edge(n1, n2):\n",
    "        \n",
    "            # Increment recommended\n",
    "            recommended[(n1, n2)] += 1\n",
    "\n",
    "# Identify the top 6 routes\n",
    "all_counts = sorted(recommended.values())\n",
    "top6_routes = [route for route, count in recommended.items() if count > all_counts[-7]]\n",
    "print(top6_routes)"
   ]
  },
  {
   "cell_type": "markdown",
   "metadata": {},
   "source": [
    "However, setting up routes between these airports do not make sense because they are in the proximity of New York City and are very close distance-wise. So I will continue to find routes to recommend. "
   ]
  },
  {
   "cell_type": "code",
   "execution_count": 25,
   "metadata": {},
   "outputs": [
    {
     "name": "stdout",
     "output_type": "stream",
     "text": [
      "defaultdict(<class 'int'>, {('MEM', 'SEA'): 1, ('MEM', 'MIA'): 1, ('MEM', 'ORD'): 1, ('MEM', 'MSP'): 1, ('MEM', 'TPA'): 1, ('MEM', 'MSY'): 1, ('MEM', 'DFW'): 1, ('MEM', 'IAH'): 1, ('MEM', 'SFO'): 1, ('MEM', 'CVG'): 1, ('MEM', 'IND'): 1, ('MEM', 'RDU'): 1, ('MEM', 'IAD'): 1, ('MEM', 'RSW'): 1, ('MEM', 'BOS'): 1, ('MEM', 'PBI'): 1, ('MEM', 'LAX'): 1, ('MEM', 'MCO'): 1, ('MEM', 'SJU'): 1, ('SEA', 'MIA'): 1, ('SEA', 'ORD'): 1, ('SEA', 'MSP'): 1, ('SEA', 'TPA'): 2, ('SEA', 'MSY'): 1, ('SEA', 'DFW'): 1, ('SEA', 'IAH'): 1, ('SEA', 'SFO'): 1, ('SEA', 'CVG'): 1, ('SEA', 'IND'): 1, ('SEA', 'RDU'): 1, ('SEA', 'IAD'): 2, ('SEA', 'RSW'): 1, ('SEA', 'BOS'): 2, ('SEA', 'PBI'): 2, ('SEA', 'LAX'): 2, ('SEA', 'MCO'): 2, ('SEA', 'SJU'): 2, ('MIA', 'ORD'): 1, ('MIA', 'MSP'): 2, ('MIA', 'TPA'): 2, ('MIA', 'MSY'): 1, ('MIA', 'DFW'): 1, ('MIA', 'IAH'): 2, ('MIA', 'SFO'): 1, ('MIA', 'CVG'): 2, ('MIA', 'IND'): 1, ('MIA', 'RDU'): 2, ('MIA', 'IAD'): 1, ('MIA', 'RSW'): 1, ('MIA', 'BOS'): 1, ('MIA', 'PBI'): 1, ('MIA', 'LAX'): 1, ('MIA', 'MCO'): 2, ('MIA', 'SJU'): 1, ('ORD', 'MSP'): 2, ('ORD', 'TPA'): 2, ('ORD', 'MSY'): 1, ('ORD', 'DFW'): 1, ('ORD', 'IAH'): 2, ('ORD', 'SFO'): 1, ('ORD', 'CVG'): 2, ('ORD', 'IND'): 1, ('ORD', 'RDU'): 2, ('ORD', 'IAD'): 2, ('ORD', 'RSW'): 1, ('ORD', 'BOS'): 1, ('ORD', 'PBI'): 2, ('ORD', 'LAX'): 1, ('ORD', 'MCO'): 2, ('ORD', 'SJU'): 1, ('MSP', 'TPA'): 1, ('MSP', 'MSY'): 1, ('MSP', 'DFW'): 1, ('MSP', 'IAH'): 2, ('MSP', 'SFO'): 1, ('MSP', 'CVG'): 2, ('MSP', 'IND'): 1, ('MSP', 'RDU'): 1, ('MSP', 'IAD'): 1, ('MSP', 'RSW'): 1, ('MSP', 'BOS'): 1, ('MSP', 'PBI'): 1, ('MSP', 'LAX'): 1, ('MSP', 'MCO'): 2, ('MSP', 'SJU'): 1, ('TPA', 'MSY'): 1, ('TPA', 'DFW'): 1, ('TPA', 'IAH'): 2, ('TPA', 'SFO'): 1, ('TPA', 'CVG'): 2, ('TPA', 'IND'): 1, ('TPA', 'RDU'): 1, ('TPA', 'IAD'): 2, ('TPA', 'RSW'): 1, ('TPA', 'BOS'): 2, ('TPA', 'PBI'): 2, ('TPA', 'LAX'): 2, ('TPA', 'MCO'): 2, ('TPA', 'SJU'): 2, ('MSY', 'DFW'): 1, ('MSY', 'IAH'): 1, ('MSY', 'SFO'): 1, ('MSY', 'CVG'): 1, ('MSY', 'IND'): 1, ('MSY', 'RDU'): 1, ('MSY', 'IAD'): 1, ('MSY', 'RSW'): 1, ('MSY', 'BOS'): 1, ('MSY', 'PBI'): 1, ('MSY', 'LAX'): 1, ('MSY', 'MCO'): 1, ('MSY', 'SJU'): 1, ('DFW', 'IAH'): 1, ('DFW', 'SFO'): 1, ('DFW', 'CVG'): 1, ('DFW', 'IND'): 1, ('DFW', 'RDU'): 1, ('DFW', 'IAD'): 1, ('DFW', 'RSW'): 1, ('DFW', 'BOS'): 1, ('DFW', 'PBI'): 1, ('DFW', 'LAX'): 1, ('DFW', 'MCO'): 1, ('DFW', 'SJU'): 1, ('IAH', 'SFO'): 1, ('IAH', 'CVG'): 1, ('IAH', 'IND'): 1, ('IAH', 'RDU'): 1, ('IAH', 'IAD'): 1, ('IAH', 'RSW'): 1, ('IAH', 'BOS'): 1, ('IAH', 'PBI'): 1, ('IAH', 'LAX'): 1, ('IAH', 'MCO'): 1, ('IAH', 'SJU'): 1, ('SFO', 'CVG'): 1, ('SFO', 'IND'): 1, ('SFO', 'RDU'): 1, ('SFO', 'IAD'): 1, ('SFO', 'RSW'): 1, ('SFO', 'BOS'): 1, ('SFO', 'PBI'): 1, ('SFO', 'LAX'): 1, ('SFO', 'MCO'): 1, ('SFO', 'SJU'): 1, ('CVG', 'IND'): 1, ('CVG', 'RDU'): 1, ('CVG', 'IAD'): 1, ('CVG', 'RSW'): 1, ('CVG', 'BOS'): 1, ('CVG', 'PBI'): 1, ('CVG', 'LAX'): 1, ('CVG', 'MCO'): 1, ('CVG', 'SJU'): 1, ('IND', 'RDU'): 1, ('IND', 'IAD'): 1, ('IND', 'RSW'): 1, ('IND', 'BOS'): 1, ('IND', 'PBI'): 1, ('IND', 'LAX'): 1, ('IND', 'MCO'): 1, ('IND', 'SJU'): 1, ('RDU', 'IAD'): 1, ('RDU', 'RSW'): 1, ('RDU', 'BOS'): 1, ('RDU', 'PBI'): 1, ('RDU', 'LAX'): 1, ('RDU', 'MCO'): 2, ('RDU', 'SJU'): 1, ('IAD', 'RSW'): 1, ('IAD', 'BOS'): 2, ('IAD', 'PBI'): 1, ('IAD', 'LAX'): 1, ('IAD', 'MCO'): 2, ('IAD', 'SJU'): 1, ('RSW', 'BOS'): 1, ('RSW', 'PBI'): 1, ('RSW', 'LAX'): 1, ('RSW', 'MCO'): 1, ('RSW', 'SJU'): 1, ('BOS', 'PBI'): 1, ('BOS', 'LAX'): 1, ('BOS', 'MCO'): 1, ('BOS', 'SJU'): 1, ('PBI', 'LAX'): 1, ('PBI', 'MCO'): 2, ('PBI', 'SJU'): 1, ('LAX', 'MCO'): 1, ('LAX', 'SJU'): 1, ('MCO', 'SJU'): 2, ('FLL', 'ORD'): 1, ('FLL', 'PBI'): 2, ('FLL', 'CMH'): 1, ('FLL', 'IAD'): 2, ('FLL', 'CLT'): 2, ('FLL', 'MIA'): 1, ('FLL', 'DCA'): 1, ('FLL', 'BHM'): 1, ('FLL', 'RDU'): 1, ('FLL', 'ATL'): 1, ('FLL', 'TPA'): 1, ('FLL', 'MDW'): 1, ('FLL', 'DEN'): 1, ('FLL', 'MSP'): 1, ('FLL', 'DTW'): 1, ('FLL', 'STL'): 1, ('FLL', 'MCO'): 1, ('FLL', 'CVG'): 1, ('FLL', 'IAH'): 1, ('ORD', 'CMH'): 1, ('ORD', 'CLT'): 1, ('ORD', 'MIA'): 1, ('ORD', 'DCA'): 1, ('ORD', 'BHM'): 1, ('ORD', 'ATL'): 1, ('ORD', 'MDW'): 1, ('ORD', 'DEN'): 1, ('ORD', 'DTW'): 1, ('ORD', 'STL'): 1, ('PBI', 'CMH'): 1, ('PBI', 'IAD'): 2, ('PBI', 'CLT'): 1, ('PBI', 'MIA'): 1, ('PBI', 'DCA'): 1, ('PBI', 'BHM'): 1, ('PBI', 'RDU'): 1, ('PBI', 'ATL'): 1, ('PBI', 'TPA'): 1, ('PBI', 'MDW'): 1, ('PBI', 'DEN'): 1, ('PBI', 'MSP'): 1, ('PBI', 'DTW'): 1, ('PBI', 'STL'): 1, ('PBI', 'CVG'): 1, ('PBI', 'IAH'): 1, ('CMH', 'IAD'): 1, ('CMH', 'CLT'): 1, ('CMH', 'MIA'): 1, ('CMH', 'DCA'): 1, ('CMH', 'BHM'): 1, ('CMH', 'RDU'): 1, ('CMH', 'ATL'): 1, ('CMH', 'TPA'): 1, ('CMH', 'MDW'): 1, ('CMH', 'DEN'): 1, ('CMH', 'MSP'): 1, ('CMH', 'DTW'): 1, ('CMH', 'STL'): 1, ('CMH', 'MCO'): 1, ('CMH', 'CVG'): 1, ('CMH', 'IAH'): 1, ('IAD', 'CLT'): 1, ('IAD', 'MIA'): 1, ('IAD', 'DCA'): 1, ('IAD', 'BHM'): 1, ('IAD', 'RDU'): 1, ('IAD', 'ATL'): 1, ('IAD', 'TPA'): 1, ('IAD', 'MDW'): 1, ('IAD', 'DEN'): 1, ('IAD', 'MSP'): 1, ('IAD', 'DTW'): 1, ('IAD', 'STL'): 1, ('IAD', 'CVG'): 1, ('IAD', 'IAH'): 1, ('CLT', 'MIA'): 1, ('CLT', 'DCA'): 1, ('CLT', 'BHM'): 1, ('CLT', 'RDU'): 1, ('CLT', 'ATL'): 1, ('CLT', 'TPA'): 1, ('CLT', 'MDW'): 1, ('CLT', 'DEN'): 1, ('CLT', 'MSP'): 1, ('CLT', 'DTW'): 1, ('CLT', 'STL'): 1, ('CLT', 'MCO'): 1, ('CLT', 'CVG'): 1, ('CLT', 'IAH'): 1, ('MIA', 'DCA'): 1, ('MIA', 'BHM'): 1, ('MIA', 'ATL'): 1, ('MIA', 'MDW'): 1, ('MIA', 'DEN'): 1, ('MIA', 'DTW'): 1, ('MIA', 'STL'): 1, ('DCA', 'BHM'): 1, ('DCA', 'RDU'): 1, ('DCA', 'ATL'): 1, ('DCA', 'TPA'): 1, ('DCA', 'MDW'): 1, ('DCA', 'DEN'): 1, ('DCA', 'MSP'): 1, ('DCA', 'DTW'): 2, ('DCA', 'STL'): 1, ('DCA', 'MCO'): 1, ('DCA', 'CVG'): 1, ('DCA', 'IAH'): 1, ('BHM', 'RDU'): 1, ('BHM', 'ATL'): 1, ('BHM', 'TPA'): 1, ('BHM', 'MDW'): 1, ('BHM', 'DEN'): 1, ('BHM', 'MSP'): 1, ('BHM', 'DTW'): 1, ('BHM', 'STL'): 1, ('BHM', 'MCO'): 1, ('BHM', 'CVG'): 1, ('BHM', 'IAH'): 1, ('RDU', 'ATL'): 1, ('RDU', 'TPA'): 1, ('RDU', 'MDW'): 1, ('RDU', 'DEN'): 1, ('RDU', 'MSP'): 1, ('RDU', 'DTW'): 1, ('RDU', 'STL'): 1, ('RDU', 'CVG'): 1, ('RDU', 'IAH'): 1, ('ATL', 'TPA'): 1, ('ATL', 'MDW'): 1, ('ATL', 'DEN'): 1, ('ATL', 'MSP'): 1, ('ATL', 'DTW'): 2, ('ATL', 'STL'): 1, ('ATL', 'MCO'): 1, ('ATL', 'CVG'): 1, ('ATL', 'IAH'): 1, ('TPA', 'MDW'): 1, ('TPA', 'DEN'): 1, ('TPA', 'MSP'): 1, ('TPA', 'DTW'): 2, ('TPA', 'STL'): 1, ('MDW', 'DEN'): 1, ('MDW', 'MSP'): 1, ('MDW', 'DTW'): 1, ('MDW', 'STL'): 1, ('MDW', 'MCO'): 1, ('MDW', 'CVG'): 1, ('MDW', 'IAH'): 1, ('DEN', 'MSP'): 1, ('DEN', 'DTW'): 2, ('DEN', 'STL'): 1, ('DEN', 'MCO'): 2, ('DEN', 'CVG'): 1, ('DEN', 'IAH'): 1, ('MSP', 'DTW'): 1, ('MSP', 'STL'): 1, ('DTW', 'STL'): 1, ('DTW', 'MCO'): 1, ('DTW', 'CVG'): 1, ('DTW', 'IAH'): 1, ('STL', 'MCO'): 1, ('STL', 'CVG'): 1, ('STL', 'IAH'): 1, ('MCO', 'CVG'): 1, ('MCO', 'IAH'): 1, ('CVG', 'IAH'): 1, ('DEN', 'SEA'): 1, ('DEN', 'TPA'): 1, ('DEN', 'SJU'): 1, ('DEN', 'ATL'): 1, ('DEN', 'SRQ'): 1, ('DEN', 'DCA'): 1, ('DEN', 'LAX'): 1, ('DEN', 'JAX'): 1, ('DEN', 'FLL'): 1, ('DEN', 'CLT'): 1, ('DEN', 'PBI'): 1, ('DEN', 'CLE'): 1, ('DEN', 'IAD'): 1, ('DEN', 'BOS'): 1, ('SEA', 'ATL'): 1, ('SEA', 'SRQ'): 1, ('SEA', 'DCA'): 1, ('SEA', 'DTW'): 1, ('SEA', 'JAX'): 1, ('SEA', 'FLL'): 1, ('SEA', 'CLT'): 1, ('SEA', 'CLE'): 1, ('MCO', 'TPA'): 1, ('MCO', 'ATL'): 1, ('MCO', 'SRQ'): 1, ('MCO', 'DCA'): 1, ('MCO', 'DTW'): 1, ('MCO', 'LAX'): 1, ('MCO', 'JAX'): 1, ('MCO', 'FLL'): 1, ('MCO', 'CLT'): 1, ('MCO', 'PBI'): 1, ('MCO', 'CLE'): 1, ('MCO', 'IAD'): 1, ('MCO', 'BOS'): 1, ('TPA', 'ATL'): 1, ('TPA', 'SRQ'): 1, ('TPA', 'DCA'): 1, ('TPA', 'JAX'): 1, ('TPA', 'FLL'): 1, ('TPA', 'CLT'): 1, ('TPA', 'CLE'): 1, ('SJU', 'ATL'): 1, ('SJU', 'SRQ'): 1, ('SJU', 'DCA'): 1, ('SJU', 'DTW'): 1, ('SJU', 'LAX'): 1, ('SJU', 'JAX'): 1, ('SJU', 'FLL'): 1, ('SJU', 'CLT'): 1, ('SJU', 'PBI'): 1, ('SJU', 'CLE'): 1, ('SJU', 'IAD'): 1, ('SJU', 'BOS'): 1, ('ATL', 'SRQ'): 1, ('ATL', 'DCA'): 1, ('ATL', 'LAX'): 1, ('ATL', 'JAX'): 1, ('ATL', 'FLL'): 1, ('ATL', 'CLT'): 1, ('ATL', 'PBI'): 1, ('ATL', 'CLE'): 1, ('ATL', 'IAD'): 1, ('ATL', 'BOS'): 1, ('SRQ', 'DCA'): 1, ('SRQ', 'DTW'): 1, ('SRQ', 'LAX'): 1, ('SRQ', 'JAX'): 1, ('SRQ', 'FLL'): 1, ('SRQ', 'CLT'): 1, ('SRQ', 'PBI'): 1, ('SRQ', 'CLE'): 1, ('SRQ', 'IAD'): 1, ('SRQ', 'BOS'): 1, ('DCA', 'LAX'): 1, ('DCA', 'JAX'): 1, ('DCA', 'FLL'): 1, ('DCA', 'CLT'): 1, ('DCA', 'PBI'): 1, ('DCA', 'CLE'): 1, ('DCA', 'IAD'): 1, ('DCA', 'BOS'): 1, ('DTW', 'LAX'): 1, ('DTW', 'JAX'): 1, ('DTW', 'FLL'): 1, ('DTW', 'CLT'): 1, ('DTW', 'PBI'): 1, ('DTW', 'CLE'): 1, ('DTW', 'IAD'): 1, ('DTW', 'BOS'): 1, ('LAX', 'JAX'): 1, ('LAX', 'FLL'): 1, ('LAX', 'CLT'): 1, ('LAX', 'PBI'): 1, ('LAX', 'CLE'): 1, ('LAX', 'IAD'): 1, ('LAX', 'BOS'): 1, ('JAX', 'FLL'): 1, ('JAX', 'CLT'): 1, ('JAX', 'PBI'): 1, ('JAX', 'CLE'): 1, ('JAX', 'IAD'): 1, ('JAX', 'BOS'): 1, ('FLL', 'CLE'): 1, ('FLL', 'BOS'): 1, ('CLT', 'PBI'): 1, ('CLT', 'CLE'): 1, ('CLT', 'IAD'): 1, ('CLT', 'BOS'): 1, ('PBI', 'CLE'): 1, ('PBI', 'BOS'): 1, ('CLE', 'IAD'): 1, ('CLE', 'BOS'): 1})\n"
     ]
    }
   ],
   "source": [
    "# Drop the NYC routes from recommended\n",
    "nyc_airport = top6_routes\n",
    "for i in nyc_airport:\n",
    "    del recommended[i]\n",
    "\n",
    "print(recommended)"
   ]
  },
  {
   "cell_type": "code",
   "execution_count": 26,
   "metadata": {},
   "outputs": [
    {
     "name": "stdout",
     "output_type": "stream",
     "text": [
      "{('SEA', 'TPA'): 2, ('SEA', 'IAD'): 2, ('SEA', 'BOS'): 2, ('SEA', 'PBI'): 2, ('SEA', 'LAX'): 2, ('SEA', 'MCO'): 2}\n"
     ]
    }
   ],
   "source": [
    "# Sort recommended based on its values\n",
    "recommended_sorted = {k: v for k, v in sorted(recommended.items(), key=lambda item: item[1],\n",
    "                                     reverse=True)}\n",
    "top_6 = {k: recommended_sorted[k] for k in list(recommended_sorted)[:6]}\n",
    "print(top_6)"
   ]
  },
  {
   "cell_type": "markdown",
   "metadata": {},
   "source": [
    "I‘d like to recommend these 6 routes: SEA - TPA, SEA - IAD, SEA - BOS, SEA - PBI, SEA - LAX, SEA - MCO etc. "
   ]
  },
  {
   "cell_type": "code",
   "execution_count": null,
   "metadata": {},
   "outputs": [],
   "source": []
  }
 ],
 "metadata": {
  "kernelspec": {
   "display_name": "Python 3",
   "language": "python",
   "name": "python3"
  },
  "language_info": {
   "codemirror_mode": {
    "name": "ipython",
    "version": 3
   },
   "file_extension": ".py",
   "mimetype": "text/x-python",
   "name": "python",
   "nbconvert_exporter": "python",
   "pygments_lexer": "ipython3",
   "version": "3.7.3"
  }
 },
 "nbformat": 4,
 "nbformat_minor": 2
}
