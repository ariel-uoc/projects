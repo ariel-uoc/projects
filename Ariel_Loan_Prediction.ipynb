{
 "cells": [
  {
   "cell_type": "markdown",
   "metadata": {},
   "source": [
    "# Data Cleaning and Feature Engineering "
   ]
  },
  {
   "cell_type": "code",
   "execution_count": 1,
   "metadata": {},
   "outputs": [],
   "source": [
    "import pandas as pd\n",
    "import numpy as np\n",
    "import random as rnd\n",
    "from scipy import stats\n",
    "from sklearn.model_selection import train_test_split\n",
    "\n",
    "# Visualization Modules\n",
    "import seaborn as sns\n",
    "import matplotlib.pyplot as plt\n",
    "%matplotlib inline\n",
    "\n",
    "# Regressor Modules\n",
    "from sklearn.neighbors import KNeighborsRegressor\n",
    "from sklearn.tree import DecisionTreeRegressor\n",
    "from sklearn.ensemble import RandomForestRegressor\n",
    "from sklearn.linear_model import Lasso"
   ]
  },
  {
   "cell_type": "code",
   "execution_count": 2,
   "metadata": {},
   "outputs": [
    {
     "name": "stderr",
     "output_type": "stream",
     "text": [
      "/Users/arielsmac/anaconda3/lib/python3.7/site-packages/IPython/core/interactiveshell.py:3058: DtypeWarning: Columns (15) have mixed types. Specify dtype option on import or set low_memory=False.\n",
      "  interactivity=interactivity, compiler=compiler, result=result)\n"
     ]
    },
    {
     "name": "stdout",
     "output_type": "stream",
     "text": [
      "<class 'pandas.core.frame.DataFrame'>\n",
      "RangeIndex: 400000 entries, 0 to 399999\n",
      "Data columns (total 32 columns):\n",
      "X1     338990 non-null object\n",
      "X2     399999 non-null float64\n",
      "X3     399999 non-null float64\n",
      "X4     399999 non-null object\n",
      "X5     399999 non-null object\n",
      "X6     399999 non-null object\n",
      "X7     399999 non-null object\n",
      "X8     338730 non-null object\n",
      "X9     338730 non-null object\n",
      "X10    376014 non-null object\n",
      "X11    382462 non-null object\n",
      "X12    338639 non-null object\n",
      "X13    338972 non-null float64\n",
      "X14    399999 non-null object\n",
      "X15    399999 non-null object\n",
      "X16    123560 non-null object\n",
      "X17    399999 non-null object\n",
      "X18    399981 non-null object\n",
      "X19    399999 non-null object\n",
      "X20    399999 non-null object\n",
      "X21    399999 non-null float64\n",
      "X22    399999 non-null float64\n",
      "X23    399999 non-null object\n",
      "X24    399999 non-null float64\n",
      "X25    181198 non-null float64\n",
      "X26    51155 non-null float64\n",
      "X27    399999 non-null float64\n",
      "X28    399999 non-null float64\n",
      "X29    399999 non-null float64\n",
      "X30    399733 non-null object\n",
      "X31    399999 non-null float64\n",
      "X32    399999 non-null object\n",
      "dtypes: float64(12), object(20)\n",
      "memory usage: 97.7+ MB\n"
     ]
    }
   ],
   "source": [
    "# Load training dataset \n",
    "loan = pd.read_csv(\"Data for Cleaning & Modeling.csv\")\n",
    "loan.info()"
   ]
  },
  {
   "cell_type": "code",
   "execution_count": 3,
   "metadata": {},
   "outputs": [
    {
     "data": {
      "text/html": [
       "<div>\n",
       "<style scoped>\n",
       "    .dataframe tbody tr th:only-of-type {\n",
       "        vertical-align: middle;\n",
       "    }\n",
       "\n",
       "    .dataframe tbody tr th {\n",
       "        vertical-align: top;\n",
       "    }\n",
       "\n",
       "    .dataframe thead th {\n",
       "        text-align: right;\n",
       "    }\n",
       "</style>\n",
       "<table border=\"1\" class=\"dataframe\">\n",
       "  <thead>\n",
       "    <tr style=\"text-align: right;\">\n",
       "      <th></th>\n",
       "      <th>X1</th>\n",
       "      <th>X2</th>\n",
       "      <th>X3</th>\n",
       "      <th>X4</th>\n",
       "      <th>X5</th>\n",
       "      <th>X6</th>\n",
       "      <th>X7</th>\n",
       "      <th>X8</th>\n",
       "      <th>X9</th>\n",
       "      <th>X10</th>\n",
       "      <th>...</th>\n",
       "      <th>X23</th>\n",
       "      <th>X24</th>\n",
       "      <th>X25</th>\n",
       "      <th>X26</th>\n",
       "      <th>X27</th>\n",
       "      <th>X28</th>\n",
       "      <th>X29</th>\n",
       "      <th>X30</th>\n",
       "      <th>X31</th>\n",
       "      <th>X32</th>\n",
       "    </tr>\n",
       "  </thead>\n",
       "  <tbody>\n",
       "    <tr>\n",
       "      <td>0</td>\n",
       "      <td>11.89%</td>\n",
       "      <td>54734.0</td>\n",
       "      <td>80364.0</td>\n",
       "      <td>$25,000</td>\n",
       "      <td>$25,000</td>\n",
       "      <td>$19,080</td>\n",
       "      <td>36 months</td>\n",
       "      <td>B</td>\n",
       "      <td>B4</td>\n",
       "      <td>NaN</td>\n",
       "      <td>...</td>\n",
       "      <td>Feb-94</td>\n",
       "      <td>0.0</td>\n",
       "      <td>NaN</td>\n",
       "      <td>NaN</td>\n",
       "      <td>10.0</td>\n",
       "      <td>0.0</td>\n",
       "      <td>28854.0</td>\n",
       "      <td>52.10%</td>\n",
       "      <td>42.0</td>\n",
       "      <td>f</td>\n",
       "    </tr>\n",
       "    <tr>\n",
       "      <td>1</td>\n",
       "      <td>10.71%</td>\n",
       "      <td>55742.0</td>\n",
       "      <td>114426.0</td>\n",
       "      <td>$7,000</td>\n",
       "      <td>$7,000</td>\n",
       "      <td>$673</td>\n",
       "      <td>36 months</td>\n",
       "      <td>B</td>\n",
       "      <td>B5</td>\n",
       "      <td>CNN</td>\n",
       "      <td>...</td>\n",
       "      <td>Oct-00</td>\n",
       "      <td>0.0</td>\n",
       "      <td>NaN</td>\n",
       "      <td>NaN</td>\n",
       "      <td>7.0</td>\n",
       "      <td>0.0</td>\n",
       "      <td>33623.0</td>\n",
       "      <td>76.70%</td>\n",
       "      <td>7.0</td>\n",
       "      <td>f</td>\n",
       "    </tr>\n",
       "    <tr>\n",
       "      <td>2</td>\n",
       "      <td>16.99%</td>\n",
       "      <td>57167.0</td>\n",
       "      <td>137225.0</td>\n",
       "      <td>$25,000</td>\n",
       "      <td>$25,000</td>\n",
       "      <td>$24,725</td>\n",
       "      <td>36 months</td>\n",
       "      <td>D</td>\n",
       "      <td>D3</td>\n",
       "      <td>Web Programmer</td>\n",
       "      <td>...</td>\n",
       "      <td>Jun-00</td>\n",
       "      <td>0.0</td>\n",
       "      <td>41.0</td>\n",
       "      <td>NaN</td>\n",
       "      <td>10.0</td>\n",
       "      <td>0.0</td>\n",
       "      <td>19878.0</td>\n",
       "      <td>66.30%</td>\n",
       "      <td>17.0</td>\n",
       "      <td>f</td>\n",
       "    </tr>\n",
       "    <tr>\n",
       "      <td>3</td>\n",
       "      <td>13.11%</td>\n",
       "      <td>57245.0</td>\n",
       "      <td>138150.0</td>\n",
       "      <td>$1,200</td>\n",
       "      <td>$1,200</td>\n",
       "      <td>$1,200</td>\n",
       "      <td>36 months</td>\n",
       "      <td>C</td>\n",
       "      <td>C2</td>\n",
       "      <td>city of beaumont texas</td>\n",
       "      <td>...</td>\n",
       "      <td>Jan-85</td>\n",
       "      <td>0.0</td>\n",
       "      <td>64.0</td>\n",
       "      <td>NaN</td>\n",
       "      <td>5.0</td>\n",
       "      <td>0.0</td>\n",
       "      <td>2584.0</td>\n",
       "      <td>40.40%</td>\n",
       "      <td>31.0</td>\n",
       "      <td>f</td>\n",
       "    </tr>\n",
       "    <tr>\n",
       "      <td>4</td>\n",
       "      <td>13.57%</td>\n",
       "      <td>57416.0</td>\n",
       "      <td>139635.0</td>\n",
       "      <td>$10,800</td>\n",
       "      <td>$10,800</td>\n",
       "      <td>$10,692</td>\n",
       "      <td>36 months</td>\n",
       "      <td>C</td>\n",
       "      <td>C3</td>\n",
       "      <td>State Farm Insurance</td>\n",
       "      <td>...</td>\n",
       "      <td>Dec-96</td>\n",
       "      <td>1.0</td>\n",
       "      <td>58.0</td>\n",
       "      <td>NaN</td>\n",
       "      <td>14.0</td>\n",
       "      <td>0.0</td>\n",
       "      <td>3511.0</td>\n",
       "      <td>25.60%</td>\n",
       "      <td>40.0</td>\n",
       "      <td>f</td>\n",
       "    </tr>\n",
       "    <tr>\n",
       "      <td>5</td>\n",
       "      <td>19.05%</td>\n",
       "      <td>58524.0</td>\n",
       "      <td>149512.0</td>\n",
       "      <td>$7,200</td>\n",
       "      <td>$7,200</td>\n",
       "      <td>$7,200</td>\n",
       "      <td>36 months</td>\n",
       "      <td>D</td>\n",
       "      <td>D4</td>\n",
       "      <td>Arkwright</td>\n",
       "      <td>...</td>\n",
       "      <td>Apr-94</td>\n",
       "      <td>0.0</td>\n",
       "      <td>26.0</td>\n",
       "      <td>NaN</td>\n",
       "      <td>6.0</td>\n",
       "      <td>0.0</td>\n",
       "      <td>3874.0</td>\n",
       "      <td>90.10%</td>\n",
       "      <td>25.0</td>\n",
       "      <td>f</td>\n",
       "    </tr>\n",
       "    <tr>\n",
       "      <td>6</td>\n",
       "      <td>10.08%</td>\n",
       "      <td>58915.0</td>\n",
       "      <td>153417.0</td>\n",
       "      <td>$7,500</td>\n",
       "      <td>$5,025</td>\n",
       "      <td>$557</td>\n",
       "      <td>36 months</td>\n",
       "      <td>B</td>\n",
       "      <td>B3</td>\n",
       "      <td>QUalcomm Inc</td>\n",
       "      <td>...</td>\n",
       "      <td>Nov-00</td>\n",
       "      <td>1.0</td>\n",
       "      <td>NaN</td>\n",
       "      <td>NaN</td>\n",
       "      <td>3.0</td>\n",
       "      <td>0.0</td>\n",
       "      <td>33667.0</td>\n",
       "      <td>73.20%</td>\n",
       "      <td>11.0</td>\n",
       "      <td>f</td>\n",
       "    </tr>\n",
       "    <tr>\n",
       "      <td>7</td>\n",
       "      <td>14.26%</td>\n",
       "      <td>59006.0</td>\n",
       "      <td>154254.0</td>\n",
       "      <td>$3,000</td>\n",
       "      <td>$3,000</td>\n",
       "      <td>$2,988</td>\n",
       "      <td>36 months</td>\n",
       "      <td>C</td>\n",
       "      <td>C5</td>\n",
       "      <td>NaN</td>\n",
       "      <td>...</td>\n",
       "      <td>Jul-98</td>\n",
       "      <td>0.0</td>\n",
       "      <td>13.0</td>\n",
       "      <td>0.0</td>\n",
       "      <td>13.0</td>\n",
       "      <td>0.0</td>\n",
       "      <td>4740.0</td>\n",
       "      <td>39.50%</td>\n",
       "      <td>23.0</td>\n",
       "      <td>f</td>\n",
       "    </tr>\n",
       "    <tr>\n",
       "      <td>8</td>\n",
       "      <td>7.88%</td>\n",
       "      <td>61390.0</td>\n",
       "      <td>182594.0</td>\n",
       "      <td>$4,000</td>\n",
       "      <td>$4,000</td>\n",
       "      <td>$3,900</td>\n",
       "      <td>36 months</td>\n",
       "      <td>A</td>\n",
       "      <td>A5</td>\n",
       "      <td>NaN</td>\n",
       "      <td>...</td>\n",
       "      <td>May-93</td>\n",
       "      <td>0.0</td>\n",
       "      <td>NaN</td>\n",
       "      <td>NaN</td>\n",
       "      <td>11.0</td>\n",
       "      <td>0.0</td>\n",
       "      <td>50807.0</td>\n",
       "      <td>51%</td>\n",
       "      <td>19.0</td>\n",
       "      <td>f</td>\n",
       "    </tr>\n",
       "    <tr>\n",
       "      <td>9</td>\n",
       "      <td>14.96%</td>\n",
       "      <td>61419.0</td>\n",
       "      <td>182917.0</td>\n",
       "      <td>$5,600</td>\n",
       "      <td>$5,600</td>\n",
       "      <td>$5,525</td>\n",
       "      <td>36 months</td>\n",
       "      <td>D</td>\n",
       "      <td>D2</td>\n",
       "      <td>Pension Benefit Guaranty Corporation</td>\n",
       "      <td>...</td>\n",
       "      <td>Jun-01</td>\n",
       "      <td>0.0</td>\n",
       "      <td>38.0</td>\n",
       "      <td>63.0</td>\n",
       "      <td>5.0</td>\n",
       "      <td>1.0</td>\n",
       "      <td>3839.0</td>\n",
       "      <td>76.80%</td>\n",
       "      <td>9.0</td>\n",
       "      <td>f</td>\n",
       "    </tr>\n",
       "  </tbody>\n",
       "</table>\n",
       "<p>10 rows × 32 columns</p>\n",
       "</div>"
      ],
      "text/plain": [
       "       X1       X2        X3       X4       X5       X6          X7 X8  X9  \\\n",
       "0  11.89%  54734.0   80364.0  $25,000  $25,000  $19,080   36 months  B  B4   \n",
       "1  10.71%  55742.0  114426.0   $7,000   $7,000     $673   36 months  B  B5   \n",
       "2  16.99%  57167.0  137225.0  $25,000  $25,000  $24,725   36 months  D  D3   \n",
       "3  13.11%  57245.0  138150.0   $1,200   $1,200   $1,200   36 months  C  C2   \n",
       "4  13.57%  57416.0  139635.0  $10,800  $10,800  $10,692   36 months  C  C3   \n",
       "5  19.05%  58524.0  149512.0   $7,200   $7,200   $7,200   36 months  D  D4   \n",
       "6  10.08%  58915.0  153417.0   $7,500   $5,025     $557   36 months  B  B3   \n",
       "7  14.26%  59006.0  154254.0   $3,000   $3,000   $2,988   36 months  C  C5   \n",
       "8   7.88%  61390.0  182594.0   $4,000   $4,000   $3,900   36 months  A  A5   \n",
       "9  14.96%  61419.0  182917.0   $5,600   $5,600   $5,525   36 months  D  D2   \n",
       "\n",
       "                                    X10  ...     X23  X24   X25   X26   X27  \\\n",
       "0                                   NaN  ...  Feb-94  0.0   NaN   NaN  10.0   \n",
       "1                                   CNN  ...  Oct-00  0.0   NaN   NaN   7.0   \n",
       "2                        Web Programmer  ...  Jun-00  0.0  41.0   NaN  10.0   \n",
       "3                city of beaumont texas  ...  Jan-85  0.0  64.0   NaN   5.0   \n",
       "4                  State Farm Insurance  ...  Dec-96  1.0  58.0   NaN  14.0   \n",
       "5                             Arkwright  ...  Apr-94  0.0  26.0   NaN   6.0   \n",
       "6                          QUalcomm Inc  ...  Nov-00  1.0   NaN   NaN   3.0   \n",
       "7                                   NaN  ...  Jul-98  0.0  13.0   0.0  13.0   \n",
       "8                                   NaN  ...  May-93  0.0   NaN   NaN  11.0   \n",
       "9  Pension Benefit Guaranty Corporation  ...  Jun-01  0.0  38.0  63.0   5.0   \n",
       "\n",
       "   X28      X29     X30   X31 X32  \n",
       "0  0.0  28854.0  52.10%  42.0   f  \n",
       "1  0.0  33623.0  76.70%   7.0   f  \n",
       "2  0.0  19878.0  66.30%  17.0   f  \n",
       "3  0.0   2584.0  40.40%  31.0   f  \n",
       "4  0.0   3511.0  25.60%  40.0   f  \n",
       "5  0.0   3874.0  90.10%  25.0   f  \n",
       "6  0.0  33667.0  73.20%  11.0   f  \n",
       "7  0.0   4740.0  39.50%  23.0   f  \n",
       "8  0.0  50807.0     51%  19.0   f  \n",
       "9  1.0   3839.0  76.80%   9.0   f  \n",
       "\n",
       "[10 rows x 32 columns]"
      ]
     },
     "execution_count": 3,
     "metadata": {},
     "output_type": "execute_result"
    }
   ],
   "source": [
    "loan.head(10)"
   ]
  },
  {
   "cell_type": "code",
   "execution_count": 4,
   "metadata": {},
   "outputs": [
    {
     "data": {
      "text/plain": [
       "X1      61010\n",
       "X2          1\n",
       "X3          1\n",
       "X4          1\n",
       "X5          1\n",
       "X6          1\n",
       "X7          1\n",
       "X8      61270\n",
       "X9      61270\n",
       "X10     23986\n",
       "X11     17538\n",
       "X12     61361\n",
       "X13     61028\n",
       "X14         1\n",
       "X15         1\n",
       "X16    276440\n",
       "X17         1\n",
       "X18        19\n",
       "X19         1\n",
       "X20         1\n",
       "X21         1\n",
       "X22         1\n",
       "X23         1\n",
       "X24         1\n",
       "X25    218802\n",
       "X26    348845\n",
       "X27         1\n",
       "X28         1\n",
       "X29         1\n",
       "X30       267\n",
       "X31         1\n",
       "X32         1\n",
       "dtype: int64"
      ]
     },
     "execution_count": 4,
     "metadata": {},
     "output_type": "execute_result"
    }
   ],
   "source": [
    "loan.isnull().sum()"
   ]
  },
  {
   "cell_type": "code",
   "execution_count": 5,
   "metadata": {},
   "outputs": [
    {
     "name": "stdout",
     "output_type": "stream",
     "text": [
      "<class 'pandas.core.frame.DataFrame'>\n",
      "RangeIndex: 80000 entries, 0 to 79999\n",
      "Data columns (total 32 columns):\n",
      "X1     0 non-null float64\n",
      "X2     80000 non-null int64\n",
      "X3     80000 non-null int64\n",
      "X4     80000 non-null object\n",
      "X5     80000 non-null object\n",
      "X6     80000 non-null object\n",
      "X7     80000 non-null object\n",
      "X8     80000 non-null object\n",
      "X9     80000 non-null object\n",
      "X10    75606 non-null object\n",
      "X11    75618 non-null object\n",
      "X12    80000 non-null object\n",
      "X13    80000 non-null float64\n",
      "X14    80000 non-null object\n",
      "X15    80000 non-null object\n",
      "X16    15 non-null object\n",
      "X17    80000 non-null object\n",
      "X18    80000 non-null object\n",
      "X19    80000 non-null object\n",
      "X20    80000 non-null object\n",
      "X21    80000 non-null float64\n",
      "X22    80000 non-null int64\n",
      "X23    80000 non-null object\n",
      "X24    80000 non-null int64\n",
      "X25    41296 non-null float64\n",
      "X26    13839 non-null float64\n",
      "X27    80000 non-null int64\n",
      "X28    80000 non-null int64\n",
      "X29    80000 non-null int64\n",
      "X30    79970 non-null object\n",
      "X31    80000 non-null int64\n",
      "X32    80000 non-null object\n",
      "dtypes: float64(5), int64(8), object(19)\n",
      "memory usage: 19.5+ MB\n"
     ]
    }
   ],
   "source": [
    "# Load test dataset \n",
    "holdout = pd.read_csv(\"Holdout for Testing.csv\")\n",
    "holdout.info()"
   ]
  },
  {
   "cell_type": "code",
   "execution_count": 6,
   "metadata": {},
   "outputs": [
    {
     "data": {
      "text/html": [
       "<div>\n",
       "<style scoped>\n",
       "    .dataframe tbody tr th:only-of-type {\n",
       "        vertical-align: middle;\n",
       "    }\n",
       "\n",
       "    .dataframe tbody tr th {\n",
       "        vertical-align: top;\n",
       "    }\n",
       "\n",
       "    .dataframe thead th {\n",
       "        text-align: right;\n",
       "    }\n",
       "</style>\n",
       "<table border=\"1\" class=\"dataframe\">\n",
       "  <thead>\n",
       "    <tr style=\"text-align: right;\">\n",
       "      <th></th>\n",
       "      <th>X1</th>\n",
       "      <th>X2</th>\n",
       "      <th>X3</th>\n",
       "      <th>X4</th>\n",
       "      <th>X5</th>\n",
       "      <th>X6</th>\n",
       "      <th>X7</th>\n",
       "      <th>X8</th>\n",
       "      <th>X9</th>\n",
       "      <th>X10</th>\n",
       "      <th>...</th>\n",
       "      <th>X23</th>\n",
       "      <th>X24</th>\n",
       "      <th>X25</th>\n",
       "      <th>X26</th>\n",
       "      <th>X27</th>\n",
       "      <th>X28</th>\n",
       "      <th>X29</th>\n",
       "      <th>X30</th>\n",
       "      <th>X31</th>\n",
       "      <th>X32</th>\n",
       "    </tr>\n",
       "  </thead>\n",
       "  <tbody>\n",
       "    <tr>\n",
       "      <td>0</td>\n",
       "      <td>NaN</td>\n",
       "      <td>44409194</td>\n",
       "      <td>47416907</td>\n",
       "      <td>$6,000</td>\n",
       "      <td>$6,000</td>\n",
       "      <td>$6,000</td>\n",
       "      <td>36 months</td>\n",
       "      <td>C</td>\n",
       "      <td>C5</td>\n",
       "      <td>Electrician</td>\n",
       "      <td>...</td>\n",
       "      <td>2-Nov</td>\n",
       "      <td>1</td>\n",
       "      <td>26.0</td>\n",
       "      <td>NaN</td>\n",
       "      <td>18</td>\n",
       "      <td>0</td>\n",
       "      <td>19861</td>\n",
       "      <td>64.50%</td>\n",
       "      <td>33</td>\n",
       "      <td>f</td>\n",
       "    </tr>\n",
       "    <tr>\n",
       "      <td>1</td>\n",
       "      <td>NaN</td>\n",
       "      <td>44017917</td>\n",
       "      <td>47034722</td>\n",
       "      <td>$24,000</td>\n",
       "      <td>$24,000</td>\n",
       "      <td>$24,000</td>\n",
       "      <td>36 months</td>\n",
       "      <td>A</td>\n",
       "      <td>A1</td>\n",
       "      <td>Executive Assistant</td>\n",
       "      <td>...</td>\n",
       "      <td>Dec-68</td>\n",
       "      <td>1</td>\n",
       "      <td>NaN</td>\n",
       "      <td>NaN</td>\n",
       "      <td>12</td>\n",
       "      <td>0</td>\n",
       "      <td>17001</td>\n",
       "      <td>26.20%</td>\n",
       "      <td>36</td>\n",
       "      <td>w</td>\n",
       "    </tr>\n",
       "    <tr>\n",
       "      <td>2</td>\n",
       "      <td>NaN</td>\n",
       "      <td>44259158</td>\n",
       "      <td>47306871</td>\n",
       "      <td>$35,000</td>\n",
       "      <td>$35,000</td>\n",
       "      <td>$35,000</td>\n",
       "      <td>36 months</td>\n",
       "      <td>C</td>\n",
       "      <td>C2</td>\n",
       "      <td>District Sales Leader</td>\n",
       "      <td>...</td>\n",
       "      <td>Oct-98</td>\n",
       "      <td>0</td>\n",
       "      <td>NaN</td>\n",
       "      <td>NaN</td>\n",
       "      <td>16</td>\n",
       "      <td>0</td>\n",
       "      <td>25797</td>\n",
       "      <td>49.90%</td>\n",
       "      <td>33</td>\n",
       "      <td>w</td>\n",
       "    </tr>\n",
       "    <tr>\n",
       "      <td>3</td>\n",
       "      <td>NaN</td>\n",
       "      <td>44429213</td>\n",
       "      <td>47476932</td>\n",
       "      <td>$10,000</td>\n",
       "      <td>$10,000</td>\n",
       "      <td>$10,000</td>\n",
       "      <td>60 months</td>\n",
       "      <td>D</td>\n",
       "      <td>D1</td>\n",
       "      <td>pharmacy associate</td>\n",
       "      <td>...</td>\n",
       "      <td>Feb-99</td>\n",
       "      <td>1</td>\n",
       "      <td>NaN</td>\n",
       "      <td>114.0</td>\n",
       "      <td>13</td>\n",
       "      <td>1</td>\n",
       "      <td>9586</td>\n",
       "      <td>43.80%</td>\n",
       "      <td>21</td>\n",
       "      <td>w</td>\n",
       "    </tr>\n",
       "    <tr>\n",
       "      <td>4</td>\n",
       "      <td>NaN</td>\n",
       "      <td>44299188</td>\n",
       "      <td>47346901</td>\n",
       "      <td>$24,000</td>\n",
       "      <td>$24,000</td>\n",
       "      <td>$24,000</td>\n",
       "      <td>60 months</td>\n",
       "      <td>B</td>\n",
       "      <td>B1</td>\n",
       "      <td>Medical case manager</td>\n",
       "      <td>...</td>\n",
       "      <td>2-Dec</td>\n",
       "      <td>0</td>\n",
       "      <td>48.0</td>\n",
       "      <td>NaN</td>\n",
       "      <td>27</td>\n",
       "      <td>0</td>\n",
       "      <td>31842</td>\n",
       "      <td>41.30%</td>\n",
       "      <td>43</td>\n",
       "      <td>w</td>\n",
       "    </tr>\n",
       "  </tbody>\n",
       "</table>\n",
       "<p>5 rows × 32 columns</p>\n",
       "</div>"
      ],
      "text/plain": [
       "   X1        X2        X3       X4       X5       X6          X7 X8  X9  \\\n",
       "0 NaN  44409194  47416907   $6,000   $6,000   $6,000   36 months  C  C5   \n",
       "1 NaN  44017917  47034722  $24,000  $24,000  $24,000   36 months  A  A1   \n",
       "2 NaN  44259158  47306871  $35,000  $35,000  $35,000   36 months  C  C2   \n",
       "3 NaN  44429213  47476932  $10,000  $10,000  $10,000   60 months  D  D1   \n",
       "4 NaN  44299188  47346901  $24,000  $24,000  $24,000   60 months  B  B1   \n",
       "\n",
       "                     X10  ...     X23 X24   X25    X26 X27 X28    X29     X30  \\\n",
       "0            Electrician  ...   2-Nov   1  26.0    NaN  18   0  19861  64.50%   \n",
       "1    Executive Assistant  ...  Dec-68   1   NaN    NaN  12   0  17001  26.20%   \n",
       "2  District Sales Leader  ...  Oct-98   0   NaN    NaN  16   0  25797  49.90%   \n",
       "3     pharmacy associate  ...  Feb-99   1   NaN  114.0  13   1   9586  43.80%   \n",
       "4   Medical case manager  ...   2-Dec   0  48.0    NaN  27   0  31842  41.30%   \n",
       "\n",
       "  X31 X32  \n",
       "0  33   f  \n",
       "1  36   w  \n",
       "2  33   w  \n",
       "3  21   w  \n",
       "4  43   w  \n",
       "\n",
       "[5 rows x 32 columns]"
      ]
     },
     "execution_count": 6,
     "metadata": {},
     "output_type": "execute_result"
    }
   ],
   "source": [
    "holdout.head()"
   ]
  },
  {
   "cell_type": "code",
   "execution_count": 7,
   "metadata": {},
   "outputs": [
    {
     "data": {
      "text/plain": [
       "X1     80000\n",
       "X2         0\n",
       "X3         0\n",
       "X4         0\n",
       "X5         0\n",
       "X6         0\n",
       "X7         0\n",
       "X8         0\n",
       "X9         0\n",
       "X10     4394\n",
       "X11     4382\n",
       "X12        0\n",
       "X13        0\n",
       "X14        0\n",
       "X15        0\n",
       "X16    79985\n",
       "X17        0\n",
       "X18        0\n",
       "X19        0\n",
       "X20        0\n",
       "X21        0\n",
       "X22        0\n",
       "X23        0\n",
       "X24        0\n",
       "X25    38704\n",
       "X26    66161\n",
       "X27        0\n",
       "X28        0\n",
       "X29        0\n",
       "X30       30\n",
       "X31        0\n",
       "X32        0\n",
       "dtype: int64"
      ]
     },
     "execution_count": 7,
     "metadata": {},
     "output_type": "execute_result"
    }
   ],
   "source": [
    "holdout.isnull().sum()"
   ]
  },
  {
   "cell_type": "code",
   "execution_count": 8,
   "metadata": {},
   "outputs": [],
   "source": [
    "# X1: Interest rate on loan. This is our response variable. \n",
    "# For loan dataset, drop rows with missing values. Remove percentage sign and change datatype to numeric. \n",
    "loan = loan.dropna(subset=['X1'])\n",
    "loan['X1'] = pd.to_numeric(loan['X1'].str.replace('%', ''))\n",
    "\n",
    "# For holdout dataset, this is our target variable so I'll drop the entire column. \n",
    "holdout.drop(['X1'], axis=1, inplace=True)"
   ]
  },
  {
   "cell_type": "code",
   "execution_count": 9,
   "metadata": {},
   "outputs": [
    {
     "data": {
      "text/plain": [
       "<matplotlib.axes._subplots.AxesSubplot at 0x1a29a6ae10>"
      ]
     },
     "execution_count": 9,
     "metadata": {},
     "output_type": "execute_result"
    },
    {
     "data": {
      "image/png": "[encoded data removed]",
      "text/plain": [
       "<Figure size 432x288 with 1 Axes>"
      ]
     },
     "metadata": {
      "needs_background": "light"
     },
     "output_type": "display_data"
    }
   ],
   "source": [
    "# Distribution of interest rates \n",
    "sns.distplot(loan['X1'])"
   ]
  },
  {
   "cell_type": "code",
   "execution_count": 10,
   "metadata": {},
   "outputs": [],
   "source": [
    "# X2 and X3: Unique ID for loan and borrower. Not conducive to building model. \n",
    "# Drop these columns from both datasets. \n",
    "loan.drop(['X2','X3'], axis=1, inplace=True)\n",
    "holdout.drop(['X2','X3'], axis=1, inplace=True)"
   ]
  },
  {
   "cell_type": "code",
   "execution_count": 11,
   "metadata": {},
   "outputs": [],
   "source": [
    "# X16: Reason for loan provided by borrower. This column has large numbers of missing values (more than 50%) in both datasets. \n",
    "# And is a unique text type that complicates our model. Drop this column from both datasets. \n",
    "loan.drop(['X16'], axis=1, inplace=True)\n",
    "holdout.drop(['X16'], axis=1, inplace=True)"
   ]
  },
  {
   "cell_type": "code",
   "execution_count": 12,
   "metadata": {},
   "outputs": [
    {
     "data": {
      "text/plain": [
       "X1          0\n",
       "X4          1\n",
       "X5          1\n",
       "X6          1\n",
       "X7          1\n",
       "X8      51867\n",
       "X9      51867\n",
       "X10     20257\n",
       "X11     14795\n",
       "X12     51960\n",
       "X13     51752\n",
       "X14         1\n",
       "X15         1\n",
       "X17         1\n",
       "X18        17\n",
       "X19         1\n",
       "X20         1\n",
       "X21         1\n",
       "X22         1\n",
       "X23         1\n",
       "X24         1\n",
       "X25    185457\n",
       "X26    295590\n",
       "X27         1\n",
       "X28         1\n",
       "X29         1\n",
       "X30       225\n",
       "X31         1\n",
       "X32         1\n",
       "dtype: int64"
      ]
     },
     "execution_count": 12,
     "metadata": {},
     "output_type": "execute_result"
    }
   ],
   "source": [
    "loan.isnull().sum()"
   ]
  },
  {
   "cell_type": "code",
   "execution_count": 13,
   "metadata": {},
   "outputs": [],
   "source": [
    "# X25 and X26: Number of months since last delinquency and public records. Seems rather important. \n",
    "# I'm going to impute with median in both datasets.\n",
    "loan['X25'] = loan['X25'].fillna(loan['X25'].median())\n",
    "loan['X26'] = loan['X26'].fillna(loan['X26'].median())\n",
    "\n",
    "holdout['X25'] = holdout['X25'].fillna(holdout['X25'].median())\n",
    "holdout['X26'] = holdout['X26'].fillna(holdout['X26'].median())"
   ]
  },
  {
   "cell_type": "code",
   "execution_count": 14,
   "metadata": {},
   "outputs": [],
   "source": [
    "# X13: Borrower annual income. This is a very important variable so we can't simply impute with overall mean or median.\n",
    "# Instead, I'm going to find the mean of annual income of people that belong to different loan subgrades and impute that way. \n",
    "loan['X13'].fillna(loan.groupby('X9')['X13'].transform('mean'), inplace = True)\n",
    "holdout['X13'].fillna(loan.groupby('X9')['X13'].transform('mean'), inplace = True)"
   ]
  },
  {
   "cell_type": "code",
   "execution_count": 15,
   "metadata": {},
   "outputs": [
    {
     "data": {
      "text/plain": [
       "X1         0\n",
       "X4         1\n",
       "X5         1\n",
       "X6         1\n",
       "X7         1\n",
       "X8     51867\n",
       "X9     51867\n",
       "X10    20257\n",
       "X11    14795\n",
       "X12    51960\n",
       "X13     7762\n",
       "X14        1\n",
       "X15        1\n",
       "X17        1\n",
       "X18       17\n",
       "X19        1\n",
       "X20        1\n",
       "X21        1\n",
       "X22        1\n",
       "X23        1\n",
       "X24        1\n",
       "X25        0\n",
       "X26        0\n",
       "X27        1\n",
       "X28        1\n",
       "X29        1\n",
       "X30      225\n",
       "X31        1\n",
       "X32        1\n",
       "dtype: int64"
      ]
     },
     "execution_count": 15,
     "metadata": {},
     "output_type": "execute_result"
    }
   ],
   "source": [
    "loan.isnull().sum()"
   ]
  },
  {
   "cell_type": "code",
   "execution_count": 16,
   "metadata": {},
   "outputs": [],
   "source": [
    "# X8 and X9: Loan grade and subgrade. These variables seem valuable. \n",
    "# Don't want to impute missing values in important variables. So I'll drop them from loan dataset.\n",
    "loan.dropna(subset=['X8'], inplace=True)\n",
    "\n",
    "# Convert them into numeric variables in both datasets. \n",
    "grade = {'A':1.0,'B':2.0,'C':3.0,'D':4.0,'E':5.0,'F':6.0,'G':7.0}\n",
    "grade_cat = {'A1':11,'A2':12,'A3':13,'A4':14,'A5':15,\n",
    "            'B1':21,'B2':22,'B3':23,'B4':24,'B5':25,\n",
    "            'C1':31,'C2':32,'C3':33,'C4':34,'C5':35,\n",
    "            'D1':41,'D2':42,'D3':43,'D4':44,'D5':45,\n",
    "            'E1':51,'E2':52,'E3':53,'E4':54,'E5':55,\n",
    "            'F1':61,'F2':62,'F3':63,'F4':64,'F5':65,\n",
    "            'G1':70,'G2':70,'G3':70,'G4':70,'G5':70}\n",
    "\n",
    "loan['X8'] = loan['X8'].replace(grade)\n",
    "loan['X8'] = pd.to_numeric(loan['X8'])\n",
    "\n",
    "loan['X9'] = loan['X9'].replace(grade_cat)\n",
    "loan['X9'] = pd.to_numeric(loan['X9'])\n",
    "\n",
    "holdout['X8'] = holdout['X8'].replace(grade)\n",
    "holdout['X8'] = pd.to_numeric(holdout['X8'])\n",
    "\n",
    "holdout['X9'] = holdout['X9'].replace(grade_cat)\n",
    "holdout['X9'] = pd.to_numeric(holdout['X9'])\n",
    "\n",
    "#loan['X9'] = loan[np.isfinite(loan['X9'])]\n",
    "#holdout['X9'] = holdout[np.isfinite(holdout['X9'])]"
   ]
  },
  {
   "cell_type": "code",
   "execution_count": 17,
   "metadata": {},
   "outputs": [
    {
     "data": {
      "text/plain": [
       "X1         0\n",
       "X4         0\n",
       "X5         0\n",
       "X6         0\n",
       "X7         0\n",
       "X8         0\n",
       "X9         0\n",
       "X10    17073\n",
       "X11    12451\n",
       "X12    44128\n",
       "X13        0\n",
       "X14        0\n",
       "X15        0\n",
       "X17        0\n",
       "X18       12\n",
       "X19        0\n",
       "X20        0\n",
       "X21        0\n",
       "X22        0\n",
       "X23        0\n",
       "X24        0\n",
       "X25        0\n",
       "X26        0\n",
       "X27        0\n",
       "X28        0\n",
       "X29        0\n",
       "X30      178\n",
       "X31        0\n",
       "X32        0\n",
       "dtype: int64"
      ]
     },
     "execution_count": 17,
     "metadata": {},
     "output_type": "execute_result"
    }
   ],
   "source": [
    "loan.isnull().sum()"
   ]
  },
  {
   "cell_type": "code",
   "execution_count": 18,
   "metadata": {},
   "outputs": [
    {
     "data": {
      "image/png": "[encoded data removed]",
      "text/plain": [
       "<Figure size 432x288 with 1 Axes>"
      ]
     },
     "metadata": {
      "needs_background": "light"
     },
     "output_type": "display_data"
    }
   ],
   "source": [
    "# X11: Number of years employed.\n",
    "sns.countplot(loan['X11'])\n",
    "\n",
    "# Convert to numeric and impute with median in both datasets. \n",
    "loan['X11'] = loan['X11'].str.extract('(\\d+)')\n",
    "loan['X11'] = pd.to_numeric(loan['X11'])\n",
    "loan['X11'] = loan['X11'].fillna(loan['X11'].median())\n",
    "\n",
    "holdout['X11'] = holdout['X11'].str.extract('(\\d+)')\n",
    "holdout['X11'] = pd.to_numeric(holdout['X11'])\n",
    "holdout['X11'] = holdout['X11'].fillna(holdout['X11'].median())\n",
    "\n"
   ]
  },
  {
   "cell_type": "code",
   "execution_count": 19,
   "metadata": {},
   "outputs": [
    {
     "data": {
      "text/plain": [
       "<matplotlib.axes._subplots.AxesSubplot at 0x1a2a2e2978>"
      ]
     },
     "execution_count": 19,
     "metadata": {},
     "output_type": "execute_result"
    },
    {
     "data": {
      "image/png": "[encoded data removed]",
      "text/plain": [
       "<Figure size 1080x720 with 2 Axes>"
      ]
     },
     "metadata": {
      "needs_background": "light"
     },
     "output_type": "display_data"
    }
   ],
   "source": [
    "# X12: Home ownership status.\n",
    "fig, (axis1,axis2) = plt.subplots(1,2,figsize = (15,10))\n",
    "sns.countplot(loan['X12'], ax = axis1)\n",
    "sns.countplot(holdout['X12'],ax = axis2)\n",
    "\n",
    "# 6 categories in training data vs. 3 categories in test data "
   ]
  },
  {
   "cell_type": "code",
   "execution_count": 20,
   "metadata": {},
   "outputs": [],
   "source": [
    "# X12: Create dummy variables \n",
    "ownership_dummies = pd.get_dummies(loan['X12'])\n",
    "# There's very few counts in the none, any and other categories in loan dataset, so I'll drop them\n",
    "ownership_dummies = ownership_dummies.drop(['NONE','ANY','OTHER'], axis = 1)\n",
    "loan = loan.join(ownership_dummies)\n",
    "loan.drop(['X12'], axis = 1, inplace = True)\n",
    "\n",
    "ownership_dummies_holdout = pd.get_dummies(holdout['X12'])\n",
    "holdout = holdout.join(ownership_dummies_holdout)\n",
    "holdout.drop(['X12'], axis = 1, inplace = True)"
   ]
  },
  {
   "cell_type": "code",
   "execution_count": 21,
   "metadata": {},
   "outputs": [],
   "source": [
    "# X30: Revolving line utilization rate. Small amounts of missing values in both datasets so I'll impute with mean. \n",
    "# Convert data type to numeric and impute with mean.  \n",
    "loan['X30'] = pd.to_numeric(loan['X30'].str.replace('%', ''))/100\n",
    "loan['X30'] = loan['X30'].fillna(loan['X30'].mean())\n",
    "\n",
    "holdout['X30'] = pd.to_numeric(holdout['X30'].str.replace('%', ''))/100\n",
    "holdout['X30'] = holdout['X30'].fillna(holdout['X30'].median())"
   ]
  },
  {
   "cell_type": "code",
   "execution_count": 22,
   "metadata": {},
   "outputs": [],
   "source": [
    "# X19: First 3 numbers of zipcode. Convert to numeric in both datasets\n",
    "loan['X19'] = pd.to_numeric(loan['X19'].str.replace('xx', ''))\n",
    "holdout['X19'] = pd.to_numeric(holdout['X19'].str.replace('xx', ''))"
   ]
  },
  {
   "cell_type": "code",
   "execution_count": 23,
   "metadata": {},
   "outputs": [
    {
     "data": {
      "image/png": "[encoded data removed]",
      "text/plain": [
       "<Figure size 1008x864 with 2 Axes>"
      ]
     },
     "metadata": {},
     "output_type": "display_data"
    }
   ],
   "source": [
    "# Heatmap\n",
    "sns.set(style='ticks', color_codes=True)\n",
    "plt.figure(figsize=(14, 12))\n",
    "sns.heatmap(loan.corr('pearson', min_periods = 1), \n",
    "            linewidths=0.1, \n",
    "            square=True, \n",
    "            linecolor='white', \n",
    "            annot=True)\n",
    "plt.show()"
   ]
  },
  {
   "cell_type": "code",
   "execution_count": 24,
   "metadata": {},
   "outputs": [
    {
     "data": {
      "text/plain": [
       "<matplotlib.axes._subplots.AxesSubplot at 0x1a28d90828>"
      ]
     },
     "execution_count": 24,
     "metadata": {},
     "output_type": "execute_result"
    },
    {
     "data": {
      "image/png": "[encoded data removed]",
      "text/plain": [
       "<Figure size 1080x720 with 3 Axes>"
      ]
     },
     "metadata": {},
     "output_type": "display_data"
    }
   ],
   "source": [
    "# X20: State of borrower. Let's visualize this variable first to get some understanding \n",
    "fig, (axis1,axis2,axis3) = plt.subplots(1,3,figsize = (15,10))\n",
    "sns.countplot(x = 'X20', data = loan, ax = axis1)\n",
    "sns.countplot(x = 'X1', hue = 'X20', data = loan, order = [1,0], ax = axis2)\n",
    "state = loan[['X20','X1']].groupby(['X20'], as_index = False).mean()\n",
    "sns.barplot(x = 'X20', y = 'X1', data = state, order = ['CA','NY','TX','FL','IL','NJ','PA','OH'],ax = axis3)\n",
    "# For the most frequent states of borrowers, there's not much difference in interest rate. "
   ]
  },
  {
   "cell_type": "code",
   "execution_count": 25,
   "metadata": {},
   "outputs": [],
   "source": [
    "# X20: Convert to numeric values using label encoder \n",
    "from sklearn.preprocessing import LabelEncoder\n",
    "le = LabelEncoder()\n",
    "fit = le.fit(loan['X20'])\n",
    "loan['X20'] = fit.transform(loan['X20'])\n",
    "holdout['X20'] = fit.transform(holdout['X20'])"
   ]
  },
  {
   "cell_type": "code",
   "execution_count": 26,
   "metadata": {},
   "outputs": [],
   "source": [
    "# X10: Employer or job title. Has lots of missing values and the data itself is hard to incorporate to our model. \n",
    "# Drop this column from both datasets. \n",
    "loan.drop(['X10'], axis=1, inplace=True)\n",
    "holdout.drop(['X10'], axis=1, inplace=True)"
   ]
  },
  {
   "cell_type": "code",
   "execution_count": 27,
   "metadata": {},
   "outputs": [],
   "source": [
    "# X15: Date loan was issued. There might be slight fluctuations but it shouldn't have a huge impact on interest rate.\n",
    "loan.drop(['X15'], axis=1, inplace=True)\n",
    "holdout.drop(['X15'], axis=1, inplace=True)"
   ]
  },
  {
   "cell_type": "code",
   "execution_count": 28,
   "metadata": {},
   "outputs": [],
   "source": [
    "# X23: Date the borrower's earliest credit line was opened. This isn't as important as income or employment data. \n",
    "loan.drop(['X23'], axis=1, inplace=True)\n",
    "holdout.drop(['X23'], axis=1, inplace=True)"
   ]
  },
  {
   "cell_type": "code",
   "execution_count": 29,
   "metadata": {},
   "outputs": [],
   "source": [
    "# X18: Loan title provided by borrower. Not conducive to our model. \n",
    "loan.drop(['X18'], axis=1, inplace=True)\n",
    "holdout.drop(['X18'], axis=1, inplace=True)"
   ]
  },
  {
   "cell_type": "code",
   "execution_count": 30,
   "metadata": {},
   "outputs": [
    {
     "name": "stdout",
     "output_type": "stream",
     "text": [
      "<class 'pandas.core.frame.DataFrame'>\n",
      "Int64Index: 287123 entries, 0 to 399999\n",
      "Data columns (total 27 columns):\n",
      "X1          287123 non-null float64\n",
      "X4          287123 non-null object\n",
      "X5          287123 non-null object\n",
      "X6          287123 non-null object\n",
      "X7          287123 non-null object\n",
      "X8          287123 non-null float64\n",
      "X9          287123 non-null int64\n",
      "X11         287123 non-null float64\n",
      "X13         287123 non-null float64\n",
      "X14         287123 non-null object\n",
      "X17         287123 non-null object\n",
      "X19         287123 non-null int64\n",
      "X20         287123 non-null int64\n",
      "X21         287123 non-null float64\n",
      "X22         287123 non-null float64\n",
      "X24         287123 non-null float64\n",
      "X25         287123 non-null float64\n",
      "X26         287123 non-null float64\n",
      "X27         287123 non-null float64\n",
      "X28         287123 non-null float64\n",
      "X29         287123 non-null float64\n",
      "X30         287123 non-null float64\n",
      "X31         287123 non-null float64\n",
      "X32         287123 non-null object\n",
      "MORTGAGE    287123 non-null uint8\n",
      "OWN         287123 non-null uint8\n",
      "RENT        287123 non-null uint8\n",
      "dtypes: float64(14), int64(3), object(7), uint8(3)\n",
      "memory usage: 65.6+ MB\n"
     ]
    }
   ],
   "source": [
    "loan.info()"
   ]
  },
  {
   "cell_type": "code",
   "execution_count": 31,
   "metadata": {},
   "outputs": [
    {
     "data": {
      "image/png": "[encoded data removed]",
      "text/plain": [
       "<Figure size 432x288 with 1 Axes>"
      ]
     },
     "metadata": {},
     "output_type": "display_data"
    }
   ],
   "source": [
    "# X14: Income verification. This seems valuable. Use label encoding to convert to numeric values \n",
    "sns.countplot(loan['X14'])\n",
    "\n",
    "le = LabelEncoder()\n",
    "fit = le.fit(loan['X14'])\n",
    "loan['X14'] = fit.transform(loan['X14'])\n",
    "holdout['X14'] = fit.transform(holdout['X14'])"
   ]
  },
  {
   "cell_type": "code",
   "execution_count": 32,
   "metadata": {},
   "outputs": [
    {
     "name": "stdout",
     "output_type": "stream",
     "text": [
      "debt_consolidation    167815\n",
      "credit_card            64107\n",
      "home_improvement       16636\n",
      "other                  14564\n",
      "major_purchase          6191\n",
      "small_business          4560\n",
      "car                     3510\n",
      "medical                 2807\n",
      "moving                  1806\n",
      "wedding                 1634\n",
      "vacation                1557\n",
      "house                   1452\n",
      "educational              244\n",
      "renewable_energy         240\n",
      "Name: X17, dtype: int64\n"
     ]
    }
   ],
   "source": [
    "# X17: Loan category. \n",
    "print(loan['X17'].value_counts())\n",
    "# Again use label encoding to convert to numeric values.\n",
    "le = LabelEncoder()\n",
    "fit = le.fit(loan['X17'])\n",
    "loan['X17'] = fit.transform(loan['X17'])\n",
    "holdout['X17'] = fit.transform(holdout['X17'])"
   ]
  },
  {
   "cell_type": "code",
   "execution_count": 33,
   "metadata": {},
   "outputs": [
    {
     "data": {
      "image/png": "[encoded data removed]",
      "text/plain": [
       "<Figure size 432x288 with 1 Axes>"
      ]
     },
     "metadata": {},
     "output_type": "display_data"
    }
   ],
   "source": [
    "# X32: Initial listing status of loan. \n",
    "sns.countplot(loan['X32'])\n",
    "\n",
    "le = LabelEncoder()\n",
    "fit = le.fit(loan['X32'])\n",
    "loan['X32'] = fit.transform(loan['X32'])\n",
    "holdout['X32'] = fit.transform(holdout['X32'])"
   ]
  },
  {
   "cell_type": "code",
   "execution_count": 34,
   "metadata": {},
   "outputs": [
    {
     "name": "stdout",
     "output_type": "stream",
     "text": [
      "<class 'pandas.core.frame.DataFrame'>\n",
      "Int64Index: 287123 entries, 0 to 399999\n",
      "Data columns (total 27 columns):\n",
      "X1          287123 non-null float64\n",
      "X4          287123 non-null object\n",
      "X5          287123 non-null object\n",
      "X6          287123 non-null object\n",
      "X7          287123 non-null object\n",
      "X8          287123 non-null float64\n",
      "X9          287123 non-null int64\n",
      "X11         287123 non-null float64\n",
      "X13         287123 non-null float64\n",
      "X14         287123 non-null int64\n",
      "X17         287123 non-null int64\n",
      "X19         287123 non-null int64\n",
      "X20         287123 non-null int64\n",
      "X21         287123 non-null float64\n",
      "X22         287123 non-null float64\n",
      "X24         287123 non-null float64\n",
      "X25         287123 non-null float64\n",
      "X26         287123 non-null float64\n",
      "X27         287123 non-null float64\n",
      "X28         287123 non-null float64\n",
      "X29         287123 non-null float64\n",
      "X30         287123 non-null float64\n",
      "X31         287123 non-null float64\n",
      "X32         287123 non-null int64\n",
      "MORTGAGE    287123 non-null uint8\n",
      "OWN         287123 non-null uint8\n",
      "RENT        287123 non-null uint8\n",
      "dtypes: float64(14), int64(6), object(4), uint8(3)\n",
      "memory usage: 65.6+ MB\n"
     ]
    }
   ],
   "source": [
    "loan.info()"
   ]
  },
  {
   "cell_type": "code",
   "execution_count": 35,
   "metadata": {},
   "outputs": [],
   "source": [
    "# Convert features to numeric data types in the loan dataset \n",
    "loan['X4'] = loan['X4'].str.replace('$', '')\n",
    "loan['X4'] = pd.to_numeric(loan['X4'].str.replace(',', ''))\n",
    "\n",
    "loan['X5'] = loan['X5'].str.replace('$', '')\n",
    "loan['X5'] = pd.to_numeric(loan['X5'].str.replace(',', ''))\n",
    "\n",
    "loan['X6'] = loan['X6'].str.replace('$', '')\n",
    "loan['X6'] = pd.to_numeric(loan['X6'].str.replace(',', ''))\n",
    "\n",
    "loan['X7'] = loan['X7'].str.replace(' months', '')\n",
    "loan['X7'] = pd.to_numeric(loan['X7'])"
   ]
  },
  {
   "cell_type": "code",
   "execution_count": 36,
   "metadata": {},
   "outputs": [
    {
     "name": "stdout",
     "output_type": "stream",
     "text": [
      "<class 'pandas.core.frame.DataFrame'>\n",
      "RangeIndex: 80000 entries, 0 to 79999\n",
      "Data columns (total 26 columns):\n",
      "X4          80000 non-null object\n",
      "X5          80000 non-null object\n",
      "X6          80000 non-null object\n",
      "X7          80000 non-null object\n",
      "X8          80000 non-null float64\n",
      "X9          80000 non-null int64\n",
      "X11         80000 non-null float64\n",
      "X13         80000 non-null float64\n",
      "X14         80000 non-null int64\n",
      "X17         80000 non-null int64\n",
      "X19         80000 non-null int64\n",
      "X20         80000 non-null int64\n",
      "X21         80000 non-null float64\n",
      "X22         80000 non-null int64\n",
      "X24         80000 non-null int64\n",
      "X25         80000 non-null float64\n",
      "X26         80000 non-null float64\n",
      "X27         80000 non-null int64\n",
      "X28         80000 non-null int64\n",
      "X29         80000 non-null int64\n",
      "X30         80000 non-null float64\n",
      "X31         80000 non-null int64\n",
      "X32         80000 non-null int64\n",
      "MORTGAGE    80000 non-null uint8\n",
      "OWN         80000 non-null uint8\n",
      "RENT        80000 non-null uint8\n",
      "dtypes: float64(7), int64(12), object(4), uint8(3)\n",
      "memory usage: 14.3+ MB\n"
     ]
    }
   ],
   "source": [
    "holdout.info()"
   ]
  },
  {
   "cell_type": "code",
   "execution_count": 37,
   "metadata": {},
   "outputs": [],
   "source": [
    "# Convert features to numeric data types in the holdout dataset \n",
    "holdout['X4'] = holdout['X4'].str.replace('$', '')\n",
    "holdout['X4'] = pd.to_numeric(holdout['X4'].str.replace(',', ''))\n",
    "\n",
    "holdout['X5'] = holdout['X5'].str.replace('$', '')\n",
    "holdout['X5'] = pd.to_numeric(holdout['X5'].str.replace(',', ''))\n",
    "\n",
    "holdout['X6'] = holdout['X6'].str.replace('$', '')\n",
    "holdout['X6'] = pd.to_numeric(holdout['X6'].str.replace(',', ''))\n",
    "\n",
    "holdout['X7'] = holdout['X7'].str.replace(' months', '')\n",
    "holdout['X7'] = pd.to_numeric(holdout['X7'])"
   ]
  },
  {
   "cell_type": "markdown",
   "metadata": {},
   "source": [
    "def describe_categorical(X): \n",
    "    from IPython.display import display, HTML\n",
    "    display(HTML(X[X.columns[X.dtypes == 'object']].describe().to_html()))"
   ]
  },
  {
   "cell_type": "markdown",
   "metadata": {},
   "source": [
    "## Build Machine Learning Model"
   ]
  },
  {
   "cell_type": "code",
   "execution_count": 38,
   "metadata": {},
   "outputs": [],
   "source": [
    "from sklearn.model_selection import train_test_split\n",
    "\n",
    "# First separate the training data predictors and response \n",
    "y = loan['X1']\n",
    "X = loan.drop(['X1'], axis=1)\n",
    "\n",
    "# Set seed for reproducibility and split into train and test data\n",
    "SEED = 3\n",
    "X_train, X_test, y_train, y_test= train_test_split(X, y, test_size=0.3, random_state = SEED)"
   ]
  },
  {
   "cell_type": "code",
   "execution_count": 39,
   "metadata": {},
   "outputs": [],
   "source": [
    "# Import regression libraries \n",
    "from sklearn.tree import DecisionTreeRegressor\n",
    "from sklearn.ensemble import RandomForestRegressor\n",
    "from sklearn.neighbors import KNeighborsRegressor\n",
    "from sklearn.linear_model import Ridge\n",
    "from sklearn.linear_model import Lasso\n",
    "from sklearn.ensemble import GradientBoostingRegressor\n",
    "\n",
    "# Import evaluation libraries\n",
    "from sklearn.metrics import mean_squared_error as MSE\n",
    "from sklearn.model_selection import cross_val_score"
   ]
  },
  {
   "cell_type": "markdown",
   "metadata": {},
   "source": [
    "## Note: I only removed % for X1, so for an interest rate of 11%, X1 would appear as 11. Our RMSE measures the performance of models on target variables range between 0 - 100 (though realistically X1 should be 0-20).  "
   ]
  },
  {
   "cell_type": "markdown",
   "metadata": {},
   "source": [
    "### Decision Tree"
   ]
  },
  {
   "cell_type": "code",
   "execution_count": 40,
   "metadata": {},
   "outputs": [
    {
     "name": "stdout",
     "output_type": "stream",
     "text": [
      "Test set RMSE of decision tree: 1.304\n",
      "Train set RMSE of decision tree: 1.306\n",
      "CV RMSE of decision tree: 1.306\n"
     ]
    }
   ],
   "source": [
    "# Instantiate dt\n",
    "dt = DecisionTreeRegressor(max_depth=8, min_samples_leaf=0.12, random_state=SEED)\n",
    "\n",
    "# Fit dt to the training set\n",
    "dt.fit(X_train, y_train)\n",
    "\n",
    "# Make predictions \n",
    "y_pred = dt.predict(X_test)\n",
    "y_pred_train = dt.predict(X_train)\n",
    "\n",
    "# Evaluate RMSE of train and test sets \n",
    "rmse_test = MSE(y_test, y_pred)**(1/2)\n",
    "rmse_train = MSE(y_train, y_pred_train)**(1/2)\n",
    "\n",
    "# Evaluate 10-fold cross validation RMSE\n",
    "MSE_CV_scores = - cross_val_score(dt, X_train, y_train, cv=10, scoring='neg_mean_squared_error', n_jobs=-1) \n",
    "RMSE_CV = (MSE_CV_scores.mean())**(1/2)\n",
    "\n",
    "print('Test set RMSE of decision tree: {:.3f}'.format(rmse_test))\n",
    "print('Train set RMSE of decision tree: {:.3f}'.format(rmse_train))\n",
    "print('CV RMSE of decision tree: {:.3f}'.format(RMSE_CV))"
   ]
  },
  {
   "cell_type": "code",
   "execution_count": 41,
   "metadata": {},
   "outputs": [
    {
     "data": {
      "image/png": "[encoded data removed]",
      "text/plain": [
       "<Figure size 432x288 with 1 Axes>"
      ]
     },
     "metadata": {},
     "output_type": "display_data"
    }
   ],
   "source": [
    "# Understand feature importance in decision tree model\n",
    "\n",
    "importances_dt = pd.Series(dt.feature_importances_, index = X.columns)\n",
    "sorted_importances_dt = importances_dt.sort_values()\n",
    "sorted_importances_dt.plot(kind='barh', color='blue')\n",
    "plt.show()"
   ]
  },
  {
   "cell_type": "markdown",
   "metadata": {},
   "source": [
    "Decision tree regressor doesn't have problems with overfitting or underfitting. For feature importance, X9 pretty much shapes the whole model. As a machine learning algorithm, decision tree is not difficiult to implement as it doesn't require high levels of data pre-processing - no need for scaling or normalization of data. However, decision tree is somewhat inadequate when it comes to applying regression and predicting continuous variables. "
   ]
  },
  {
   "cell_type": "markdown",
   "metadata": {},
   "source": [
    "### Random Forest "
   ]
  },
  {
   "cell_type": "code",
   "execution_count": 42,
   "metadata": {},
   "outputs": [
    {
     "name": "stdout",
     "output_type": "stream",
     "text": [
      "Test set RMSE of random forest: 1.576\n",
      "Train set RMSE of random forest: 1.585\n",
      "CV RMSE of random forest: 1.306\n"
     ]
    }
   ],
   "source": [
    "# Instantiate a random forests regressor 'rf' 400 estimators\n",
    "rf = RandomForestRegressor(n_estimators=400, min_samples_leaf=0.12, random_state=SEED)\n",
    "\n",
    "# Fit 'rf' to the training set\n",
    "rf.fit(X_train, y_train)\n",
    "\n",
    "# Make predictions\n",
    "y_pred = rf.predict(X_test)\n",
    "y_pred_train = rf.predict(X_train)\n",
    "\n",
    "# Evaluate RMSE of train and test sets \n",
    "rmse_test = MSE(y_test, y_pred)**(1/2)\n",
    "rmse_train = MSE(y_train, y_pred_train)**(1/2)\n",
    "\n",
    "# Evaluate 10-fold cross validation RMSE\n",
    "MSE_CV_scores = - cross_val_score(dt, X_train, y_train, cv=10, scoring='neg_mean_squared_error', n_jobs=-1) \n",
    "RMSE_CV = (MSE_CV_scores.mean())**(1/2)\n",
    "\n",
    "print('Test set RMSE of random forest: {:.3f}'.format(rmse_test))\n",
    "print('Train set RMSE of random forest: {:.3f}'.format(rmse_train))\n",
    "print('CV RMSE of random forest: {:.3f}'.format(RMSE_CV))"
   ]
  },
  {
   "cell_type": "code",
   "execution_count": 43,
   "metadata": {},
   "outputs": [
    {
     "data": {
      "image/png": "[encoded data removed]",
      "text/plain": [
       "<Figure size 432x288 with 1 Axes>"
      ]
     },
     "metadata": {},
     "output_type": "display_data"
    }
   ],
   "source": [
    "# Understand feature importance in random forest model\n",
    "\n",
    "importances_rf = pd.Series(rf.feature_importances_, index = X.columns)\n",
    "# Sort importances_rf\n",
    "sorted_importances_rf = importances_rf.sort_values()\n",
    "# Make a horizontal bar plot\n",
    "sorted_importances_rf.plot(kind='barh', color='blue')\n",
    "plt.show()"
   ]
  },
  {
   "cell_type": "markdown",
   "metadata": {},
   "source": [
    "Random forest model doesn't seem to suffer from overfitting. However, it is only using X9 as the sole predictor, thus it has slightly higher RMSE than the decision tree model. Random forest is good at handling large datasets with high dimensionality and the feature importance feature is very helpful when you have to reduce model complexity. Though I didn't use here, random forest allows for out-of-bag sampling which removes the need of a set-aside test set. The downside of random forest is that it requires relatively high computational power and, similar to decision tree, the regression doesn't provide very good predictions on continuous variables. It doesn't predict beyond the range in the training data."
   ]
  },
  {
   "cell_type": "markdown",
   "metadata": {},
   "source": [
    "### KNeighbors"
   ]
  },
  {
   "cell_type": "code",
   "execution_count": 44,
   "metadata": {},
   "outputs": [
    {
     "name": "stdout",
     "output_type": "stream",
     "text": [
      "Test set RMSE of k-Neighbors: 4.417\n",
      "Train set RMSE of k-Neighbors: 3.614\n",
      "CV RMSE of k-Neighbors: 4.441\n"
     ]
    }
   ],
   "source": [
    "# Instantiate knn\n",
    "knn = KNeighborsRegressor(n_neighbors=5, weights='uniform', algorithm='auto', leaf_size=30, p=2, metric='minkowski', n_jobs=-1)\n",
    "\n",
    "# Fit 'knn' to the training set\n",
    "knn.fit(X_train, y_train)\n",
    "\n",
    "# Make predictions\n",
    "y_pred = knn.predict(X_test)\n",
    "y_pred_train = knn.predict(X_train)\n",
    "\n",
    "# Evaluate RMSE of train and test sets \n",
    "rmse_test = MSE(y_test, y_pred)**(1/2)\n",
    "rmse_train = MSE(y_train, y_pred_train)**(1/2)\n",
    "\n",
    "# Evaluate 10-fold cross validation RMSE\n",
    "MSE_CV_scores = - cross_val_score(knn, X_train, y_train, cv=10, scoring='neg_mean_squared_error', n_jobs=-1) \n",
    "RMSE_CV = (MSE_CV_scores.mean())**(1/2)\n",
    "\n",
    "print('Test set RMSE of k-Neighbors: {:.3f}'.format(rmse_test))\n",
    "print('Train set RMSE of k-Neighbors: {:.3f}'.format(rmse_train))\n",
    "print('CV RMSE of k-Neighbors: {:.3f}'.format(RMSE_CV))"
   ]
  },
  {
   "cell_type": "markdown",
   "metadata": {},
   "source": [
    "This KNN Regressor suffers from overfitting since the CV RMSE is greater than train RMSE, and the RMSE suggests that KNN performs poorly on our loan dataset. KNN is a simple and intuitive machine learning that is non-parametric (no assumptions) and requires no training step. However, a huge fault of KNN is that it suffers from the curse of dimensionality and cannot handle high-dimensional datasets. It also requires homogenous features (features of the same scale) and is sensitive to outliers. "
   ]
  },
  {
   "cell_type": "markdown",
   "metadata": {},
   "source": [
    "## Ridge Regression"
   ]
  },
  {
   "cell_type": "code",
   "execution_count": 45,
   "metadata": {},
   "outputs": [
    {
     "name": "stdout",
     "output_type": "stream",
     "text": [
      "Test set RMSE of Ridge Regression: 0.882\n",
      "Train set RMSE of Ridge Regression: 0.880\n",
      "CV RMSE of Ridge Regression: 0.880\n"
     ]
    }
   ],
   "source": [
    "\n",
    "# instantiate linear regression object\n",
    "ridge = Ridge(alpha = 0.1, random_state = SEED)\n",
    "\n",
    "# fit or train the linear regression model on the training set and store parameters\n",
    "ridge.fit(X_train, y_train)\n",
    "\n",
    "# Use trained RidgeCV regression model to predict interest rates of training and test data\n",
    "y_pred = ridge.predict(X_test)\n",
    "y_pred_train = ridge.predict(X_train)\n",
    "\n",
    "# Evaluate RMSE of train and test sets \n",
    "rmse_test = MSE(y_test, y_pred)**(1/2)\n",
    "rmse_train = MSE(y_train, y_pred_train)**(1/2)\n",
    "\n",
    "# Evaluate 10-fold cross validation RMSE\n",
    "MSE_CV_scores = - cross_val_score(ridge, X_train, y_train, cv=10, scoring='neg_mean_squared_error', n_jobs=-1) \n",
    "RMSE_CV = (MSE_CV_scores.mean())**(1/2)\n",
    "\n",
    "print('Test set RMSE of Ridge Regression: {:.3f}'.format(rmse_test))\n",
    "print('Train set RMSE of Ridge Regression: {:.3f}'.format(rmse_train))\n",
    "print('CV RMSE of Ridge Regression: {:.3f}'.format(RMSE_CV))\n"
   ]
  },
  {
   "cell_type": "markdown",
   "metadata": {},
   "source": [
    "Ridge regression solves a regression model where the loss function is the linear least squares function and regularization is given by the l2-norm. The pros of ridge regression include being able to reduce varianace (bias-variance tradeoff) and can improve predictive performance. The con is that since it cannot shrink coefficient to exactly zero, it cannot perform variable selection. As suggested by the RMSE values, ridge regression works reasonably well on our loan data. "
   ]
  },
  {
   "cell_type": "markdown",
   "metadata": {},
   "source": [
    "### Lasso Regression "
   ]
  },
  {
   "cell_type": "code",
   "execution_count": 46,
   "metadata": {},
   "outputs": [
    {
     "name": "stdout",
     "output_type": "stream",
     "text": [
      "Test set RMSE of Lasso Regression: 4.356\n",
      "Train set RMSE of Lasso Regression: 4.386\n",
      "CV RMSE of Lasso Regression: 4.386\n"
     ]
    }
   ],
   "source": [
    "# Instantiate lasso\n",
    "lasso = Lasso(alpha=0.3, normalize=True, random_state = SEED)\n",
    "\n",
    "# Fit lasso to the training set \n",
    "lasso.fit(X_train, y_train)\n",
    "\n",
    "# Make predictions \n",
    "y_pred = lasso.predict(X_test)\n",
    "y_pred_train = lasso.predict(X_train)\n",
    "\n",
    "# Evaluate RMSE of train and test sets \n",
    "rmse_test = MSE(y_test, y_pred)**(1/2)\n",
    "rmse_train = MSE(y_train, y_pred_train)**(1/2)\n",
    "\n",
    "# Evaluate 10-fold cross validation RMSE\n",
    "MSE_CV_scores = - cross_val_score(lasso, X_train, y_train, cv=10, scoring='neg_mean_squared_error', n_jobs=-1) \n",
    "RMSE_CV = (MSE_CV_scores.mean())**(1/2)\n",
    "\n",
    "print('Test set RMSE of Lasso Regression: {:.3f}'.format(rmse_test))\n",
    "print('Train set RMSE of Lasso Regression: {:.3f}'.format(rmse_train))\n",
    "print('CV RMSE of Lasso Regression: {:.3f}'.format(RMSE_CV))"
   ]
  },
  {
   "cell_type": "code",
   "execution_count": 47,
   "metadata": {},
   "outputs": [
    {
     "name": "stdout",
     "output_type": "stream",
     "text": [
      "number of features used:  0\n"
     ]
    }
   ],
   "source": [
    "coeff_used = np.sum(lasso.coef_!=0)\n",
    "print(\"number of features used: \", coeff_used)"
   ]
  },
  {
   "cell_type": "markdown",
   "metadata": {},
   "source": [
    "Lasso Regression is a method of model building and variable selection that can be applied to many types of regression. As a regularization method, it can avoid overfitting. It can also perform feature selection. However, the model selected by lasso is not stable and the model selection method is not intuitive. For our dataset, lasso regression result has really high RMSE and didn't indicate any feature used, which is problematic and explains the poor performance. "
   ]
  },
  {
   "cell_type": "markdown",
   "metadata": {},
   "source": [
    "### Gradient Boosting"
   ]
  },
  {
   "cell_type": "code",
   "execution_count": 48,
   "metadata": {},
   "outputs": [
    {
     "name": "stdout",
     "output_type": "stream",
     "text": [
      "Test set RMSE of Gradient Boosting: 0.725\n",
      "Train set RMSE of Gradient Boosting: 0.716\n",
      "CV RMSE of Gradient Boosting: 0.725\n"
     ]
    }
   ],
   "source": [
    "# Instantiate gb\n",
    "gb = GradientBoostingRegressor(max_depth=4,n_estimators=200,random_state=SEED)\n",
    "\n",
    "# Fit gb to the training set\n",
    "gb.fit(X_train, y_train)\n",
    "\n",
    "# Make predictions \n",
    "y_pred = gb.predict(X_test)\n",
    "y_pred_train = gb.predict(X_train)\n",
    "\n",
    "# Evaluate RMSE of train and test sets \n",
    "rmse_test = MSE(y_test, y_pred)**(1/2)\n",
    "rmse_train = MSE(y_train, y_pred_train)**(1/2)\n",
    "\n",
    "# Evaluate 10-fold cross validation RMSE\n",
    "MSE_CV_scores = - cross_val_score(gb, X_train, y_train, cv=10, scoring='neg_mean_squared_error', n_jobs=-1) \n",
    "RMSE_CV = (MSE_CV_scores.mean())**(1/2)\n",
    "\n",
    "print('Test set RMSE of Gradient Boosting: {:.3f}'.format(rmse_test))\n",
    "print('Train set RMSE of Gradient Boosting: {:.3f}'.format(rmse_train))\n",
    "print('CV RMSE of Gradient Boosting: {:.3f}'.format(RMSE_CV))"
   ]
  },
  {
   "cell_type": "code",
   "execution_count": 54,
   "metadata": {},
   "outputs": [
    {
     "data": {
      "image/png": "[encoded data removed]",
      "text/plain": [
       "<Figure size 432x288 with 1 Axes>"
      ]
     },
     "metadata": {},
     "output_type": "display_data"
    }
   ],
   "source": [
    "# Understand feature importance in gradient boosting model\n",
    "\n",
    "importances_gb = pd.Series(gb.feature_importances_, index = X.columns)\n",
    "# Sort importances_gb\n",
    "sorted_importances_gb = importances_gb.sort_values()\n",
    "# Make a horizontal bar plot\n",
    "sorted_importances_gb.plot(kind='barh', color='blue')\n",
    "plt.show()"
   ]
  },
  {
   "cell_type": "markdown",
   "metadata": {},
   "source": [
    "Gradient Boosting is a flexible non-parametric statistical learning technique. It builds an additive model in a forward stage-wise fashion. The idea is to add a classifier at a time, so that the next classifier is trained to improve the already trained ensemble. It is one of the best supervised machine learning algorithms and achieves high accuracy. The disadvantages are that ensembles of trees can be very difficult for people to interpret, requires careful tuning of parameters, and demands high computational power in the training process. Gradient Boosting has the lowest RMSE and thus makes the best predictions among all the models we've run. As seen in the feature importance plot, it mainly uses X9 to shape the model and X8 contributes a little bit. "
   ]
  },
  {
   "cell_type": "markdown",
   "metadata": {},
   "source": [
    "# Implement Model on Holdout Data  "
   ]
  },
  {
   "cell_type": "raw",
   "metadata": {},
   "source": [
    "Given the performance of different models, I'm choosing Gradient Boosting as it's my model with best performance. I tried hyperparameter tuning but unfortunately my laptop takes forever to run it, so I changed the max_depth and n_estimators combination to see if lower RMSE would be possible. "
   ]
  },
  {
   "cell_type": "code",
   "execution_count": null,
   "metadata": {},
   "outputs": [],
   "source": [
    "# tried running this but took too long\n",
    "param_grid = {'n_estimators':[400, 600, 800], \n",
    "              'learning_rate': [0.1, 0.05, 0.01], \n",
    "              'max_depth':[4,6,8],\n",
    "              'min_samples_leaf':[3,5,7],\n",
    "              'min_samples_split':[2, 4, 10]}\n",
    "\n",
    "gb1 = GradientBoostingRegressor(random_state= SEED)\n",
    "clf = GridSearchCV(estimator=gb1, param_grid=param_grid,n_jobs=-1)\n",
    "clf.fit(X_train, y_train)\n",
    "clf.best_params_"
   ]
  },
  {
   "cell_type": "code",
   "execution_count": null,
   "metadata": {},
   "outputs": [],
   "source": [
    "# Here's an example of me playing with different parameters to see if better results can be achived. \n",
    "# However, considering limitations of computational power, I believe my previous trial of gradient boosting was ideal.\n",
    "\n",
    "\n",
    "# Instantiate gb\n",
    "gb = GradientBoostingRegressor(max_depth=4,n_estimators=100,random_state=SEED)\n",
    "\n",
    "# Fit gb to the training set\n",
    "gb.fit(X_train, y_train)\n",
    "\n",
    "# Make predictions \n",
    "y_pred = gb.predict(X_test)\n",
    "y_pred_train = gb.predict(X_train)\n",
    "\n",
    "# Evaluate RMSE of train and test sets \n",
    "rmse_test = MSE(y_test, y_pred)**(1/2)\n",
    "rmse_train = MSE(y_train, y_pred_train)**(1/2)\n",
    "\n",
    "# Evaluate 10-fold cross validation RMSE\n",
    "MSE_CV_scores = - cross_val_score(gb, X_train, y_train, cv=10, scoring='neg_mean_squared_error', n_jobs=-1) \n",
    "RMSE_CV = (MSE_CV_scores.mean())**(1/2)\n",
    "\n",
    "print('Test set RMSE of Gradient Boosting: {:.3f}'.format(rmse_test))\n",
    "print('Train set RMSE of Gradient Boosting: {:.3f}'.format(rmse_train))\n",
    "print('CV RMSE of Gradient Boosting: {:.3f}'.format(RMSE_CV))"
   ]
  },
  {
   "cell_type": "code",
   "execution_count": 51,
   "metadata": {},
   "outputs": [
    {
     "name": "stdout",
     "output_type": "stream",
     "text": [
      "<class 'pandas.core.frame.DataFrame'>\n",
      "RangeIndex: 80000 entries, 0 to 79999\n",
      "Data columns (total 26 columns):\n",
      "X4          80000 non-null int64\n",
      "X5          80000 non-null int64\n",
      "X6          80000 non-null int64\n",
      "X7          80000 non-null int64\n",
      "X8          80000 non-null float64\n",
      "X9          80000 non-null int64\n",
      "X11         80000 non-null float64\n",
      "X13         80000 non-null float64\n",
      "X14         80000 non-null int64\n",
      "X17         80000 non-null int64\n",
      "X19         80000 non-null int64\n",
      "X20         80000 non-null int64\n",
      "X21         80000 non-null float64\n",
      "X22         80000 non-null int64\n",
      "X24         80000 non-null int64\n",
      "X25         80000 non-null float64\n",
      "X26         80000 non-null float64\n",
      "X27         80000 non-null int64\n",
      "X28         80000 non-null int64\n",
      "X29         80000 non-null int64\n",
      "X30         80000 non-null float64\n",
      "X31         80000 non-null int64\n",
      "X32         80000 non-null int64\n",
      "MORTGAGE    80000 non-null uint8\n",
      "OWN         80000 non-null uint8\n",
      "RENT        80000 non-null uint8\n",
      "dtypes: float64(7), int64(16), uint8(3)\n",
      "memory usage: 14.3 MB\n"
     ]
    }
   ],
   "source": [
    "holdout.info()"
   ]
  },
  {
   "cell_type": "code",
   "execution_count": 52,
   "metadata": {},
   "outputs": [
    {
     "data": {
      "text/plain": [
       "array([16.24972622,  6.04817037, 13.96176608, 16.32922579,  9.65490279,\n",
       "       11.37637098, 14.33450586, 10.60587307, 14.76620887,  6.53798221,\n",
       "       12.86636591,  8.45945879, 13.74091871, 19.21983334, 10.7174663 ])"
      ]
     },
     "execution_count": 52,
     "metadata": {},
     "output_type": "execute_result"
    }
   ],
   "source": [
    "pred = gb.predict(holdout)\n",
    "pred[:15]"
   ]
  },
  {
   "cell_type": "code",
   "execution_count": 53,
   "metadata": {},
   "outputs": [],
   "source": [
    "test = pd.read_csv('Holdout for Testing.csv')\n",
    "interest = pd.DataFrame({'LoanId':test['X2'],\"X1\": pred}) \n",
    "interest.to_csv(\"Loan Results from Ariel Li.csv\", index = False)"
   ]
  },
  {
   "cell_type": "code",
   "execution_count": null,
   "metadata": {},
   "outputs": [],
   "source": []
  }
 ],
 "metadata": {
  "kernelspec": {
   "display_name": "Python 3",
   "language": "python",
   "name": "python3"
  },
  "language_info": {
   "codemirror_mode": {
    "name": "ipython",
    "version": 3
   },
   "file_extension": ".py",
   "mimetype": "text/x-python",
   "name": "python",
   "nbconvert_exporter": "python",
   "pygments_lexer": "ipython3",
   "version": "3.7.3"
  }
 },
 "nbformat": 4,
 "nbformat_minor": 2
}
